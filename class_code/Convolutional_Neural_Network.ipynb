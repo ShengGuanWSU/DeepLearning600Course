{
  "nbformat": 4,
  "nbformat_minor": 0,
  "metadata": {
    "anaconda-cloud": {},
    "kernelspec": {
      "name": "python3",
      "display_name": "Python 3"
    },
    "language_info": {
      "codemirror_mode": {
        "name": "ipython",
        "version": 3
      },
      "file_extension": ".py",
      "mimetype": "text/x-python",
      "name": "python",
      "nbconvert_exporter": "python",
      "pygments_lexer": "ipython3",
      "version": "3.6.1"
    },
    "colab": {
      "name": "Convolutional_Neural_Network.ipynb",
      "provenance": []
    },
    "accelerator": "GPU"
  },
  "cells": [
    {
      "cell_type": "markdown",
      "metadata": {
        "id": "6Rg1IGSbvNKt",
        "colab_type": "text"
      },
      "source": [
        "# TensorFlow Tutorial #02\n",
        "# Convolutional Neural Network\n",
        "\n",
        "Adopted From: [Tensorflow Tutorials](https://github.com/Hvass-Labs/TensorFlow-Tutorials)"
      ]
    },
    {
      "cell_type": "markdown",
      "metadata": {
        "id": "wVbKdpHNvNKu",
        "colab_type": "text"
      },
      "source": [
        "## Introduction\n",
        "\n",
        "In this tutorial we will implement a simple Convolutional Neural Network in TensorFlow which has a classification accuracy of about 99%, or more if you make some of the suggested exercises.\n",
        "\n",
        "Convolutional Networks work by moving small filters across the input image. This means the filters are re-used for recognizing patterns throughout the entire input image. This makes the Convolutional Networks much more powerful than Fully-Connected networks with the same number of variables. This in turn makes the Convolutional Networks faster to train."
      ]
    },
    {
      "cell_type": "markdown",
      "metadata": {
        "id": "KFHh91SAvNKv",
        "colab_type": "text"
      },
      "source": [
        "## Flowchart"
      ]
    },
    {
      "cell_type": "markdown",
      "metadata": {
        "id": "NDiniCOvvNKv",
        "colab_type": "text"
      },
      "source": [
        "The following chart shows roughly how the data flows in the Convolutional Neural Network that is implemented below.\n",
        "\n",
        "![Flowchart](https://raw.githubusercontent.com/Hvass-Labs/TensorFlow-Tutorials/master/images/02_network_flowchart.png)"
      ]
    },
    {
      "cell_type": "markdown",
      "metadata": {
        "id": "HxNfG9rivNKw",
        "colab_type": "text"
      },
      "source": [
        "The input image is processed in the first convolutional layer using the filter-weights. This results in 16 new images, one for each filter in the convolutional layer. The images are also down-sampled so the image resolution is decreased from 28x28 to 14x14.\n",
        "\n",
        "These 16 smaller images are then processed in the second convolutional layer. We need filter-weights for each of these 16 channels, and we need filter-weights for each output channel of this layer. There are 36 output channels so there are a total of 16 x 36 = 576 filters in the second convolutional layer. The resulting images are down-sampled again to 7x7 pixels.\n",
        "\n",
        "The output of the second convolutional layer is 36 images of 7x7 pixels each. These are then flattened to a single vector of length 7 x 7 x 36 = 1764, which is used as the input to a fully-connected layer with 128 neurons (or elements). This feeds into another fully-connected layer with 10 neurons, one for each of the classes, which is used to determine the class of the image, that is, which number is depicted in the image.\n",
        "\n",
        "The convolutional filters are initially chosen at random, so the classification is done randomly. The error between the predicted and true class of the input image is measured as the so-called cross-entropy. The optimizer then automatically propagates this error back through the Convolutional Network using the chain-rule of differentiation and updates the filter-weights so as to improve the classification error. This is done iteratively thousands of times until the classification error is sufficiently low.\n",
        "\n",
        "These particular filter-weights and intermediate images are the results of one optimization run and may look different if you re-run this Notebook.\n",
        "\n",
        "Note that the computation in TensorFlow is actually done on a batch of images instead of a single image, which makes the computation more efficient. This means the flowchart actually has one more data-dimension when implemented in TensorFlow."
      ]
    },
    {
      "cell_type": "markdown",
      "metadata": {
        "id": "WzKDQhOOvirq",
        "colab_type": "text"
      },
      "source": [
        ""
      ]
    },
    {
      "cell_type": "markdown",
      "metadata": {
        "id": "GWJ_8VySvNKx",
        "colab_type": "text"
      },
      "source": [
        "## Convolutional Layer"
      ]
    },
    {
      "cell_type": "markdown",
      "metadata": {
        "id": "cnMCYvWwvNKx",
        "colab_type": "text"
      },
      "source": [
        "The following chart shows the basic idea of processing an image in the first convolutional layer. The input image depicts the number 7 and four copies of the image are shown here, so we can see more clearly how the filter is being moved to different positions of the image. For each position of the filter, the dot-product is being calculated between the filter and the image pixels under the filter, which results in a single pixel in the output image. So moving the filter across the entire input image results in a new image being generated.\n",
        "\n",
        "The red filter-weights means that the filter has a positive reaction to black pixels in the input image, while blue pixels means the filter has a negative reaction to black pixels.\n",
        "\n",
        "In this case it appears that the filter recognizes the horizontal line of the 7-digit, as can be seen from its stronger reaction to that line in the output image.\n",
        "\n",
        "![Convolution example](https://raw.githubusercontent.com/Hvass-Labs/TensorFlow-Tutorials/master/images/02_convolution.png)"
      ]
    },
    {
      "cell_type": "markdown",
      "metadata": {
        "id": "CDeNJdKIvNKy",
        "colab_type": "text"
      },
      "source": [
        "The step-size for moving the filter across the input is called the stride. There is a stride for moving the filter horizontally (x-axis) and another stride for moving vertically (y-axis).\n",
        "\n",
        "In the source-code below, the stride is set to 1 in both directions, which means the filter starts in the upper left corner of the input image and is being moved 1 pixel to the right in each step. When the filter reaches the end of the image to the right, then the filter is moved back to the left side and 1 pixel down the image. This continues until the filter has reached the lower right corner of the input image and the entire output image has been generated.\n",
        "\n",
        "When the filter reaches the end of the right-side as well as the bottom of the input image, then it can be padded with zeroes (white pixels). This causes the output image to be of the exact same dimension as the input image.\n",
        "\n",
        "Furthermore, the output of the convolution may be passed through a so-called Rectified Linear Unit (ReLU), which merely ensures that the output is positive because negative values are set to zero. The output may also be down-sampled by so-called max-pooling, which considers small windows of 2x2 pixels and only keeps the largest of those pixels. This halves the resolution of the input image e.g. from 28x28 to 14x14 pixels.\n",
        "\n",
        "Note that the second convolutional layer is more complicated because it takes 16 input channels. We want a separate filter for each input channel, so we need 16 filters instead of just one. Furthermore, we want 36 output channels from the second convolutional layer, so in total we need 16 x 36 = 576 filters for the second convolutional layer. It can be a bit challenging to understand how this works."
      ]
    },
    {
      "cell_type": "markdown",
      "metadata": {
        "id": "9R6RpBwEvNKy",
        "colab_type": "text"
      },
      "source": [
        "## Imports"
      ]
    },
    {
      "cell_type": "code",
      "metadata": {
        "id": "NRln1iUovNKz",
        "colab_type": "code",
        "colab": {}
      },
      "source": [
        "%matplotlib inline\n",
        "import matplotlib.pyplot as plt\n",
        "import tensorflow as tf\n",
        "import numpy as np\n",
        "from sklearn.metrics import confusion_matrix\n",
        "import time\n",
        "from datetime import timedelta\n",
        "import math"
      ],
      "execution_count": 0,
      "outputs": []
    },
    {
      "cell_type": "markdown",
      "metadata": {
        "id": "Gpym7qMmvNK2",
        "colab_type": "text"
      },
      "source": [
        "This was developed using Python 3.6 (Anaconda) and TensorFlow version:"
      ]
    },
    {
      "cell_type": "code",
      "metadata": {
        "id": "StdqV_-KvNK3",
        "colab_type": "code",
        "colab": {}
      },
      "source": [
        "tf.__version__"
      ],
      "execution_count": 0,
      "outputs": []
    },
    {
      "cell_type": "markdown",
      "metadata": {
        "id": "3w0OjCQovNK5",
        "colab_type": "text"
      },
      "source": [
        "## Configuration of Neural Network\n",
        "\n",
        "The configuration of the Convolutional Neural Network is defined here for convenience, so you can easily find and change these numbers and re-run the Notebook."
      ]
    },
    {
      "cell_type": "code",
      "metadata": {
        "id": "tzTjwWcwvNK5",
        "colab_type": "code",
        "colab": {}
      },
      "source": [
        "# Convolutional Layer 1.\n",
        "filter_size1 = 5          # Convolution filters are 5 x 5 pixels.\n",
        "num_filters1 = 16         # There are 16 of these filters.\n",
        "\n",
        "# Convolutional Layer 2.\n",
        "filter_size2 = 5          # Convolution filters are 5 x 5 pixels.\n",
        "num_filters2 = 36         # There are 36 of these filters.\n",
        "\n",
        "# Fully-connected layer.\n",
        "fc_size = 128             # Number of neurons in fully-connected layer."
      ],
      "execution_count": 0,
      "outputs": []
    },
    {
      "cell_type": "markdown",
      "metadata": {
        "id": "OEbprFugvNK7",
        "colab_type": "text"
      },
      "source": [
        "## Load Data"
      ]
    },
    {
      "cell_type": "markdown",
      "metadata": {
        "id": "2BTlir59wkFj",
        "colab_type": "text"
      },
      "source": [
        "Helper utilities for loading data"
      ]
    },
    {
      "cell_type": "code",
      "metadata": {
        "id": "xYt8x2D2v_fT",
        "colab_type": "code",
        "cellView": "form",
        "colab": {}
      },
      "source": [
        "#@title\n",
        "#@Helper Utilities for loading data\n",
        "########################################################################\n",
        "#\n",
        "# Functions for downloading and extracting data-files from the internet.\n",
        "#\n",
        "# Implemented in Python 3.5\n",
        "#\n",
        "########################################################################\n",
        "#\n",
        "# This file is part of the TensorFlow Tutorials available at:\n",
        "#\n",
        "# https://github.com/Hvass-Labs/TensorFlow-Tutorials\n",
        "#\n",
        "# Published under the MIT License. See the file LICENSE for details.\n",
        "#\n",
        "# Copyright 2016 by Magnus Erik Hvass Pedersen\n",
        "#\n",
        "########################################################################\n",
        "\n",
        "import sys\n",
        "import os\n",
        "import urllib.request\n",
        "import tarfile\n",
        "import zipfile\n",
        "\n",
        "########################################################################\n",
        "\n",
        "\n",
        "def _print_download_progress(count, block_size, total_size):\n",
        "    \"\"\"\n",
        "    Function used for printing the download progress.\n",
        "    Used as a call-back function in maybe_download_and_extract().\n",
        "    \"\"\"\n",
        "\n",
        "    # Percentage completion.\n",
        "    pct_complete = float(count * block_size) / total_size\n",
        "\n",
        "    # Limit it because rounding errors may cause it to exceed 100%.\n",
        "    pct_complete = min(1.0, pct_complete)\n",
        "\n",
        "    # Status-message. Note the \\r which means the line should overwrite itself.\n",
        "    msg = \"\\r- Download progress: {0:.1%}\".format(pct_complete)\n",
        "\n",
        "    # Print it.\n",
        "    sys.stdout.write(msg)\n",
        "    sys.stdout.flush()\n",
        "\n",
        "\n",
        "########################################################################\n",
        "\n",
        "def download(base_url, filename, download_dir):\n",
        "    \"\"\"\n",
        "    Download the given file if it does not already exist in the download_dir.\n",
        "\n",
        "    :param base_url: The internet URL without the filename.\n",
        "    :param filename: The filename that will be added to the base_url.\n",
        "    :param download_dir: Local directory for storing the file.\n",
        "    :return: Nothing.\n",
        "    \"\"\"\n",
        "\n",
        "    # Path for local file.\n",
        "    save_path = os.path.join(download_dir, filename)\n",
        "\n",
        "    # Check if the file already exists, otherwise we need to download it now.\n",
        "    if not os.path.exists(save_path):\n",
        "        # Check if the download directory exists, otherwise create it.\n",
        "        if not os.path.exists(download_dir):\n",
        "            os.makedirs(download_dir)\n",
        "\n",
        "        print(\"Downloading\", filename, \"...\")\n",
        "\n",
        "        # Download the file from the internet.\n",
        "        url = base_url + filename\n",
        "        file_path, _ = urllib.request.urlretrieve(url=url,\n",
        "                                                  filename=save_path,\n",
        "                                                  reporthook=_print_download_progress)\n",
        "\n",
        "        print(\" Done!\")\n",
        "\n",
        "\n",
        "def maybe_download_and_extract(url, download_dir):\n",
        "    \"\"\"\n",
        "    Download and extract the data if it doesn't already exist.\n",
        "    Assumes the url is a tar-ball file.\n",
        "\n",
        "    :param url:\n",
        "        Internet URL for the tar-file to download.\n",
        "        Example: \"https://www.cs.toronto.edu/~kriz/cifar-10-python.tar.gz\"\n",
        "\n",
        "    :param download_dir:\n",
        "        Directory where the downloaded file is saved.\n",
        "        Example: \"data/CIFAR-10/\"\n",
        "\n",
        "    :return:\n",
        "        Nothing.\n",
        "    \"\"\"\n",
        "\n",
        "    # Filename for saving the file downloaded from the internet.\n",
        "    # Use the filename from the URL and add it to the download_dir.\n",
        "    filename = url.split('/')[-1]\n",
        "    file_path = os.path.join(download_dir, filename)\n",
        "\n",
        "    # Check if the file already exists.\n",
        "    # If it exists then we assume it has also been extracted,\n",
        "    # otherwise we need to download and extract it now.\n",
        "    if not os.path.exists(file_path):\n",
        "        # Check if the download directory exists, otherwise create it.\n",
        "        if not os.path.exists(download_dir):\n",
        "            os.makedirs(download_dir)\n",
        "\n",
        "        # Download the file from the internet.\n",
        "        file_path, _ = urllib.request.urlretrieve(url=url,\n",
        "                                                  filename=file_path,\n",
        "                                                  reporthook=_print_download_progress)\n",
        "\n",
        "        print()\n",
        "        print(\"Download finished. Extracting files.\")\n",
        "\n",
        "        if file_path.endswith(\".zip\"):\n",
        "            # Unpack the zip-file.\n",
        "            zipfile.ZipFile(file=file_path, mode=\"r\").extractall(download_dir)\n",
        "        elif file_path.endswith((\".tar.gz\", \".tgz\")):\n",
        "            # Unpack the tar-ball.\n",
        "            tarfile.open(name=file_path, mode=\"r:gz\").extractall(download_dir)\n",
        "\n",
        "        print(\"Done.\")\n",
        "    else:\n",
        "        print(\"Data has apparently already been downloaded and unpacked.\")\n",
        "\n",
        "\n",
        "########################################################################\n",
        "\n",
        "########################################################################\n",
        "#\n",
        "# Cache-wrapper for a function or class.\n",
        "#\n",
        "# Save the result of calling a function or creating an object-instance\n",
        "# to harddisk. This is used to persist the data so it can be reloaded\n",
        "# very quickly and easily.\n",
        "#\n",
        "# Implemented in Python 3.5\n",
        "#\n",
        "########################################################################\n",
        "#\n",
        "# This file is part of the TensorFlow Tutorials available at:\n",
        "#\n",
        "# https://github.com/Hvass-Labs/TensorFlow-Tutorials\n",
        "#\n",
        "# Published under the MIT License. See the file LICENSE for details.\n",
        "#\n",
        "# Copyright 2016 by Magnus Erik Hvass Pedersen\n",
        "#\n",
        "########################################################################\n",
        "\n",
        "import os\n",
        "import pickle\n",
        "import numpy as np\n",
        "\n",
        "########################################################################\n",
        "\n",
        "\n",
        "def cache(cache_path, fn, *args, **kwargs):\n",
        "    \"\"\"\n",
        "    Cache-wrapper for a function or class. If the cache-file exists\n",
        "    then the data is reloaded and returned, otherwise the function\n",
        "    is called and the result is saved to cache. The fn-argument can\n",
        "    also be a class instead, in which case an object-instance is\n",
        "    created and saved to the cache-file.\n",
        "\n",
        "    :param cache_path:\n",
        "        File-path for the cache-file.\n",
        "\n",
        "    :param fn:\n",
        "        Function or class to be called.\n",
        "\n",
        "    :param args:\n",
        "        Arguments to the function or class-init.\n",
        "\n",
        "    :param kwargs:\n",
        "        Keyword arguments to the function or class-init.\n",
        "\n",
        "    :return:\n",
        "        The result of calling the function or creating the object-instance.\n",
        "    \"\"\"\n",
        "\n",
        "    # If the cache-file exists.\n",
        "    if os.path.exists(cache_path):\n",
        "        # Load the cached data from the file.\n",
        "        with open(cache_path, mode='rb') as file:\n",
        "            obj = pickle.load(file)\n",
        "\n",
        "        print(\"- Data loaded from cache-file: \" + cache_path)\n",
        "    else:\n",
        "        # The cache-file does not exist.\n",
        "\n",
        "        # Call the function / class-init with the supplied arguments.\n",
        "        obj = fn(*args, **kwargs)\n",
        "\n",
        "        # Save the data to a cache-file.\n",
        "        with open(cache_path, mode='wb') as file:\n",
        "            pickle.dump(obj, file)\n",
        "\n",
        "        print(\"- Data saved to cache-file: \" + cache_path)\n",
        "\n",
        "    return obj\n",
        "\n",
        "\n",
        "########################################################################\n",
        "\n",
        "\n",
        "def convert_numpy2pickle(in_path, out_path):\n",
        "    \"\"\"\n",
        "    Convert a numpy-file to pickle-file.\n",
        "\n",
        "    The first version of the cache-function used numpy for saving the data.\n",
        "    Instead of re-calculating all the data, you can just convert the\n",
        "    cache-file using this function.\n",
        "\n",
        "    :param in_path:\n",
        "        Input file in numpy-format written using numpy.save().\n",
        "\n",
        "    :param out_path:\n",
        "        Output file written as a pickle-file.\n",
        "\n",
        "    :return:\n",
        "        Nothing.\n",
        "    \"\"\"\n",
        "\n",
        "    # Load the data using numpy.\n",
        "    data = np.load(in_path)\n",
        "\n",
        "    # Save the data using pickle.\n",
        "    with open(out_path, mode='wb') as file:\n",
        "        pickle.dump(data, file)\n",
        "\n",
        "\n",
        "########################################################################\n",
        "\n",
        "if __name__ == '__main__':\n",
        "    # This is a short example of using a cache-file.\n",
        "\n",
        "    # This is the function that will only get called if the result\n",
        "    # is not already saved in the cache-file. This would normally\n",
        "    # be a function that takes a long time to compute, or if you\n",
        "    # need persistent data for some other reason.\n",
        "    def expensive_function(a, b):\n",
        "        return a * b\n",
        "\n",
        "    print('Computing expensive_function() ...')\n",
        "\n",
        "    # Either load the result from a cache-file if it already exists,\n",
        "    # otherwise calculate expensive_function(a=123, b=456) and\n",
        "    # save the result to the cache-file for next time.\n",
        "    result = cache(cache_path='cache_expensive_function.pkl',\n",
        "                   fn=expensive_function, a=123, b=456)\n",
        "\n",
        "    print('result =', result)\n",
        "\n",
        "    # Newline.\n",
        "    print()\n",
        "\n",
        "    # This is another example which saves an object to a cache-file.\n",
        "\n",
        "    # We want to cache an object-instance of this class.\n",
        "    # The motivation is to do an expensive computation only once,\n",
        "    # or if we need to persist the data for some other reason.\n",
        "    class ExpensiveClass:\n",
        "        def __init__(self, c, d):\n",
        "            self.c = c\n",
        "            self.d = d\n",
        "            self.result = c * d\n",
        "\n",
        "        def print_result(self):\n",
        "            print('c =', self.c)\n",
        "            print('d =', self.d)\n",
        "            print('result = c * d =', self.result)\n",
        "\n",
        "    print('Creating object from ExpensiveClass() ...')\n",
        "\n",
        "    # Either load the object from a cache-file if it already exists,\n",
        "    # otherwise make an object-instance ExpensiveClass(c=123, d=456)\n",
        "    # and save the object to the cache-file for the next time.\n",
        "    obj = cache(cache_path='cache_ExpensiveClass.pkl',\n",
        "                fn=ExpensiveClass, c=123, d=456)\n",
        "\n",
        "    obj.print_result()\n",
        "\n",
        "########################################################################\n",
        "\n",
        "########################################################################\n",
        "#\n",
        "# Class for creating a data-set consisting of all files in a directory.\n",
        "#\n",
        "# Example usage is shown in the file knifey.py and Tutorial #09.\n",
        "#\n",
        "# Implemented in Python 3.5\n",
        "#\n",
        "########################################################################\n",
        "#\n",
        "# This file is part of the TensorFlow Tutorials available at:\n",
        "#\n",
        "# https://github.com/Hvass-Labs/TensorFlow-Tutorials\n",
        "#\n",
        "# Published under the MIT License. See the file LICENSE for details.\n",
        "#\n",
        "# Copyright 2016 by Magnus Erik Hvass Pedersen\n",
        "#\n",
        "########################################################################\n",
        "\n",
        "import numpy as np\n",
        "import os\n",
        "import shutil\n",
        "\n",
        "########################################################################\n",
        "\n",
        "\n",
        "def one_hot_encoded(class_numbers, num_classes=None):\n",
        "    \"\"\"\n",
        "    Generate the One-Hot encoded class-labels from an array of integers.\n",
        "\n",
        "    For example, if class_number=2 and num_classes=4 then\n",
        "    the one-hot encoded label is the float array: [0. 0. 1. 0.]\n",
        "\n",
        "    :param class_numbers:\n",
        "        Array of integers with class-numbers.\n",
        "        Assume the integers are from zero to num_classes-1 inclusive.\n",
        "\n",
        "    :param num_classes:\n",
        "        Number of classes. If None then use max(class_numbers)+1.\n",
        "\n",
        "    :return:\n",
        "        2-dim array of shape: [len(class_numbers), num_classes]\n",
        "    \"\"\"\n",
        "\n",
        "    # Find the number of classes if None is provided.\n",
        "    # Assumes the lowest class-number is zero.\n",
        "    if num_classes is None:\n",
        "        num_classes = np.max(class_numbers) + 1\n",
        "\n",
        "    return np.eye(num_classes, dtype=float)[class_numbers]\n",
        "\n",
        "\n",
        "########################################################################\n",
        "\n",
        "\n",
        "class DataSet:\n",
        "    def __init__(self, in_dir, exts='.jpg'):\n",
        "        \"\"\"\n",
        "        Create a data-set consisting of the filenames in the given directory\n",
        "        and sub-dirs that match the given filename-extensions.\n",
        "\n",
        "        For example, the knifey-spoony data-set (see knifey.py) has the\n",
        "        following dir-structure:\n",
        "\n",
        "        knifey-spoony/forky/\n",
        "        knifey-spoony/knifey/\n",
        "        knifey-spoony/spoony/\n",
        "        knifey-spoony/forky/test/\n",
        "        knifey-spoony/knifey/test/\n",
        "        knifey-spoony/spoony/test/\n",
        "\n",
        "        This means there are 3 classes called: forky, knifey, and spoony.\n",
        "\n",
        "        If we set in_dir = \"knifey-spoony/\" and create a new DataSet-object\n",
        "        then it will scan through these directories and create a training-set\n",
        "        and test-set for each of these classes.\n",
        "\n",
        "        The training-set will contain a list of all the *.jpg filenames\n",
        "        in the following directories:\n",
        "\n",
        "        knifey-spoony/forky/\n",
        "        knifey-spoony/knifey/\n",
        "        knifey-spoony/spoony/\n",
        "\n",
        "        The test-set will contain a list of all the *.jpg filenames\n",
        "        in the following directories:\n",
        "\n",
        "        knifey-spoony/forky/test/\n",
        "        knifey-spoony/knifey/test/\n",
        "        knifey-spoony/spoony/test/\n",
        "\n",
        "        See the TensorFlow Tutorial #09 for a usage example.\n",
        "\n",
        "        :param in_dir:\n",
        "            Root-dir for the files in the data-set.\n",
        "            This would be 'knifey-spoony/' in the example above.\n",
        "\n",
        "        :param exts:\n",
        "            String or tuple of strings with valid filename-extensions.\n",
        "            Not case-sensitive.\n",
        "\n",
        "        :return:\n",
        "            Object instance.\n",
        "        \"\"\"\n",
        "\n",
        "        # Extend the input directory to the full path.\n",
        "        in_dir = os.path.abspath(in_dir)\n",
        "\n",
        "        # Input directory.\n",
        "        self.in_dir = in_dir\n",
        "\n",
        "        # Convert all file-extensions to lower-case.\n",
        "        self.exts = tuple(ext.lower() for ext in exts)\n",
        "\n",
        "        # Names for the classes.\n",
        "        self.class_names = []\n",
        "\n",
        "        # Filenames for all the files in the training-set.\n",
        "        self.filenames = []\n",
        "\n",
        "        # Filenames for all the files in the test-set.\n",
        "        self.filenames_test = []\n",
        "\n",
        "        # Class-number for each file in the training-set.\n",
        "        self.class_numbers = []\n",
        "\n",
        "        # Class-number for each file in the test-set.\n",
        "        self.class_numbers_test = []\n",
        "\n",
        "        # Total number of classes in the data-set.\n",
        "        self.num_classes = 0\n",
        "\n",
        "        # For all files/dirs in the input directory.\n",
        "        for name in os.listdir(in_dir):\n",
        "            # Full path for the file / dir.\n",
        "            current_dir = os.path.join(in_dir, name)\n",
        "\n",
        "            # If it is a directory.\n",
        "            if os.path.isdir(current_dir):\n",
        "                # Add the dir-name to the list of class-names.\n",
        "                self.class_names.append(name)\n",
        "\n",
        "                # Training-set.\n",
        "\n",
        "                # Get all the valid filenames in the dir (not sub-dirs).\n",
        "                filenames = self._get_filenames(current_dir)\n",
        "\n",
        "                # Append them to the list of all filenames for the training-set.\n",
        "                self.filenames.extend(filenames)\n",
        "\n",
        "                # The class-number for this class.\n",
        "                class_number = self.num_classes\n",
        "\n",
        "                # Create an array of class-numbers.\n",
        "                class_numbers = [class_number] * len(filenames)\n",
        "\n",
        "                # Append them to the list of all class-numbers for the training-set.\n",
        "                self.class_numbers.extend(class_numbers)\n",
        "\n",
        "                # Test-set.\n",
        "\n",
        "                # Get all the valid filenames in the sub-dir named 'test'.\n",
        "                filenames_test = self._get_filenames(os.path.join(current_dir, 'test'))\n",
        "\n",
        "                # Append them to the list of all filenames for the test-set.\n",
        "                self.filenames_test.extend(filenames_test)\n",
        "\n",
        "                # Create an array of class-numbers.\n",
        "                class_numbers = [class_number] * len(filenames_test)\n",
        "\n",
        "                # Append them to the list of all class-numbers for the test-set.\n",
        "                self.class_numbers_test.extend(class_numbers)\n",
        "\n",
        "                # Increase the total number of classes in the data-set.\n",
        "                self.num_classes += 1\n",
        "\n",
        "    def _get_filenames(self, dir):\n",
        "        \"\"\"\n",
        "        Create and return a list of filenames with matching extensions in the given directory.\n",
        "\n",
        "        :param dir:\n",
        "            Directory to scan for files. Sub-dirs are not scanned.\n",
        "\n",
        "        :return:\n",
        "            List of filenames. Only filenames. Does not include the directory.\n",
        "        \"\"\"\n",
        "\n",
        "        # Initialize empty list.\n",
        "        filenames = []\n",
        "\n",
        "        # If the directory exists.\n",
        "        if os.path.exists(dir):\n",
        "            # Get all the filenames with matching extensions.\n",
        "            for filename in os.listdir(dir):\n",
        "                if filename.lower().endswith(self.exts):\n",
        "                    filenames.append(filename)\n",
        "\n",
        "        return filenames\n",
        "\n",
        "    def get_paths(self, test=False):\n",
        "        \"\"\"\n",
        "        Get the full paths for the files in the data-set.\n",
        "\n",
        "        :param test:\n",
        "            Boolean. Return the paths for the test-set (True) or training-set (False).\n",
        "\n",
        "        :return:\n",
        "            Iterator with strings for the path-names.\n",
        "        \"\"\"\n",
        "\n",
        "        if test:\n",
        "            # Use the filenames and class-numbers for the test-set.\n",
        "            filenames = self.filenames_test\n",
        "            class_numbers = self.class_numbers_test\n",
        "\n",
        "            # Sub-dir for test-set.\n",
        "            test_dir = \"test/\"\n",
        "        else:\n",
        "            # Use the filenames and class-numbers for the training-set.\n",
        "            filenames = self.filenames\n",
        "            class_numbers = self.class_numbers\n",
        "\n",
        "            # Don't use a sub-dir for test-set.\n",
        "            test_dir = \"\"\n",
        "\n",
        "        for filename, cls in zip(filenames, class_numbers):\n",
        "            # Full path-name for the file.\n",
        "            path = os.path.join(self.in_dir, self.class_names[cls], test_dir, filename)\n",
        "\n",
        "            yield path\n",
        "\n",
        "    def get_training_set(self):\n",
        "        \"\"\"\n",
        "        Return the list of paths for the files in the training-set,\n",
        "        and the list of class-numbers as integers,\n",
        "        and the class-numbers as one-hot encoded arrays.\n",
        "        \"\"\"\n",
        "\n",
        "        return list(self.get_paths()), \\\n",
        "               np.asarray(self.class_numbers), \\\n",
        "               one_hot_encoded(class_numbers=self.class_numbers,\n",
        "                               num_classes=self.num_classes)\n",
        "\n",
        "    def get_test_set(self):\n",
        "        \"\"\"\n",
        "        Return the list of paths for the files in the test-set,\n",
        "        and the list of class-numbers as integers,\n",
        "        and the class-numbers as one-hot encoded arrays.\n",
        "        \"\"\"\n",
        "\n",
        "        return list(self.get_paths(test=True)), \\\n",
        "               np.asarray(self.class_numbers_test), \\\n",
        "               one_hot_encoded(class_numbers=self.class_numbers_test,\n",
        "                               num_classes=self.num_classes)\n",
        "\n",
        "    def copy_files(self, train_dir, test_dir):\n",
        "        \"\"\"\n",
        "        Copy all the files in the training-set to train_dir\n",
        "        and copy all the files in the test-set to test_dir.\n",
        "\n",
        "        For example, the normal directory structure for the\n",
        "        different classes in the training-set is:\n",
        "\n",
        "        knifey-spoony/forky/\n",
        "        knifey-spoony/knifey/\n",
        "        knifey-spoony/spoony/\n",
        "\n",
        "        Normally the test-set is a sub-dir of the training-set:\n",
        "\n",
        "        knifey-spoony/forky/test/\n",
        "        knifey-spoony/knifey/test/\n",
        "        knifey-spoony/spoony/test/\n",
        "\n",
        "        But some APIs use another dir-structure for the training-set:\n",
        "        \n",
        "        knifey-spoony/train/forky/\n",
        "        knifey-spoony/train/knifey/\n",
        "        knifey-spoony/train/spoony/\n",
        "\n",
        "        and for the test-set:\n",
        "        \n",
        "        knifey-spoony/test/forky/\n",
        "        knifey-spoony/test/knifey/\n",
        "        knifey-spoony/test/spoony/\n",
        "\n",
        "        :param train_dir: Directory for the training-set e.g. 'knifey-spoony/train/'\n",
        "        :param test_dir: Directory for the test-set e.g. 'knifey-spoony/test/'\n",
        "        :return: Nothing. \n",
        "        \"\"\"\n",
        "\n",
        "        # Helper-function for actually copying the files.\n",
        "        def _copy_files(src_paths, dst_dir, class_numbers):\n",
        "\n",
        "            # Create a list of dirs for each class, e.g.:\n",
        "            # ['knifey-spoony/test/forky/',\n",
        "            #  'knifey-spoony/test/knifey/',\n",
        "            #  'knifey-spoony/test/spoony/']\n",
        "            class_dirs = [os.path.join(dst_dir, class_name + \"/\")\n",
        "                          for class_name in self.class_names]\n",
        "\n",
        "            # Check if each class-directory exists, otherwise create it.\n",
        "            for dir in class_dirs:\n",
        "                if not os.path.exists(dir):\n",
        "                    os.makedirs(dir)\n",
        "\n",
        "            # For all the file-paths and associated class-numbers,\n",
        "            # copy the file to the destination dir for that class.\n",
        "            for src, cls in zip(src_paths, class_numbers):\n",
        "                shutil.copy(src=src, dst=class_dirs[cls])\n",
        "\n",
        "        # Copy the files for the training-set.\n",
        "        _copy_files(src_paths=self.get_paths(test=False),\n",
        "                    dst_dir=train_dir,\n",
        "                    class_numbers=self.class_numbers)\n",
        "\n",
        "        print(\"- Copied training-set to:\", train_dir)\n",
        "\n",
        "        # Copy the files for the test-set.\n",
        "        _copy_files(src_paths=self.get_paths(test=True),\n",
        "                    dst_dir=test_dir,\n",
        "                    class_numbers=self.class_numbers_test)\n",
        "\n",
        "        print(\"- Copied test-set to:\", test_dir)\n",
        "\n",
        "\n",
        "########################################################################\n",
        "\n",
        "\n",
        "def load_cached(cache_path, in_dir):\n",
        "    \"\"\"\n",
        "    Wrapper-function for creating a DataSet-object, which will be\n",
        "    loaded from a cache-file if it already exists, otherwise a new\n",
        "    object will be created and saved to the cache-file.\n",
        "\n",
        "    This is useful if you need to ensure the ordering of the\n",
        "    filenames is consistent every time you load the data-set,\n",
        "    for example if you use the DataSet-object in combination\n",
        "    with Transfer Values saved to another cache-file, see e.g.\n",
        "    Tutorial #09 for an example of this.\n",
        "\n",
        "    :param cache_path:\n",
        "        File-path for the cache-file.\n",
        "\n",
        "    :param in_dir:\n",
        "        Root-dir for the files in the data-set.\n",
        "        This is an argument for the DataSet-init function.\n",
        "\n",
        "    :return:\n",
        "        The DataSet-object.\n",
        "    \"\"\"\n",
        "\n",
        "    print(\"Creating dataset from the files in: \" + in_dir)\n",
        "\n",
        "    # If the object-instance for DataSet(in_dir=data_dir) already\n",
        "    # exists in the cache-file then reload it, otherwise create\n",
        "    # an object instance and save it to the cache-file for next time.\n",
        "    dataset = cache(cache_path=cache_path,\n",
        "                    fn=DataSet, in_dir=in_dir)\n",
        "\n",
        "    return dataset\n",
        "\n",
        "\n",
        "########################################################################\n",
        "########################################################################\n",
        "#\n",
        "# Downloads the MNIST data-set for recognizing hand-written digits.\n",
        "#\n",
        "# Implemented in Python 3.6\n",
        "#\n",
        "# Usage:\n",
        "# 1) Create a new object instance: data = MNIST(data_dir=\"data/MNIST/\")\n",
        "#    This automatically downloads the files to the given dir.\n",
        "# 2) Use the training-set as data.x_train, data.y_train and data.y_train_cls\n",
        "# 3) Get random batches of training data using data.random_batch()\n",
        "# 4) Use the test-set as data.x_test, data.y_test and data.y_test_cls\n",
        "#\n",
        "########################################################################\n",
        "#\n",
        "# This file is part of the TensorFlow Tutorials available at:\n",
        "#\n",
        "# https://github.com/Hvass-Labs/TensorFlow-Tutorials\n",
        "#\n",
        "# Published under the MIT License. See the file LICENSE for details.\n",
        "#\n",
        "# Copyright 2016-18 by Magnus Erik Hvass Pedersen\n",
        "#\n",
        "########################################################################\n",
        "\n",
        "import numpy as np\n",
        "import gzip\n",
        "import os\n",
        "\n",
        "########################################################################\n",
        "\n",
        "# Base URL for downloading the data-files from the internet.\n",
        "base_url = \"https://storage.googleapis.com/cvdf-datasets/mnist/\"\n",
        "\n",
        "# Filenames for the data-set.\n",
        "filename_x_train = \"train-images-idx3-ubyte.gz\"\n",
        "filename_y_train = \"train-labels-idx1-ubyte.gz\"\n",
        "filename_x_test = \"t10k-images-idx3-ubyte.gz\"\n",
        "filename_y_test = \"t10k-labels-idx1-ubyte.gz\"\n",
        "\n",
        "########################################################################\n",
        "\n",
        "\n",
        "class MNIST:\n",
        "    \"\"\"\n",
        "    The MNIST data-set for recognizing hand-written digits.\n",
        "    This automatically downloads the data-files if they do\n",
        "    not already exist in the local data_dir.\n",
        "\n",
        "    Note: Pixel-values are floats between 0.0 and 1.0.\n",
        "    \"\"\"\n",
        "\n",
        "    # The images are 28 pixels in each dimension.\n",
        "    img_size = 28\n",
        "\n",
        "    # The images are stored in one-dimensional arrays of this length.\n",
        "    img_size_flat = img_size * img_size\n",
        "\n",
        "    # Tuple with height and width of images used to reshape arrays.\n",
        "    img_shape = (img_size, img_size)\n",
        "\n",
        "    # Number of colour channels for the images: 1 channel for gray-scale.\n",
        "    num_channels = 1\n",
        "\n",
        "    # Tuple with height, width and depth used to reshape arrays.\n",
        "    # This is used for reshaping in Keras.\n",
        "    img_shape_full = (img_size, img_size, num_channels)\n",
        "\n",
        "    # Number of classes, one class for each of 10 digits.\n",
        "    num_classes = 10\n",
        "\n",
        "    def __init__(self, data_dir=\"data/MNIST/\"):\n",
        "        \"\"\"\n",
        "        Load the MNIST data-set. Automatically downloads the files\n",
        "        if they do not already exist locally.\n",
        "\n",
        "        :param data_dir: Base-directory for downloading files.\n",
        "        \"\"\"\n",
        "\n",
        "        # Copy args to self.\n",
        "        self.data_dir = data_dir\n",
        "\n",
        "        # Number of images in each sub-set.\n",
        "        self.num_train = 55000\n",
        "        self.num_val = 5000\n",
        "        self.num_test = 10000\n",
        "\n",
        "        # Download / load the training-set.\n",
        "        x_train = self._load_images(filename=filename_x_train)\n",
        "        y_train_cls = self._load_cls(filename=filename_y_train)\n",
        "\n",
        "        # Split the training-set into train / validation.\n",
        "        # Pixel-values are converted from ints between 0 and 255\n",
        "        # to floats between 0.0 and 1.0.\n",
        "        self.x_train = x_train[0:self.num_train] / 255.0\n",
        "        self.x_val = x_train[self.num_train:] / 255.0\n",
        "        self.y_train_cls = y_train_cls[0:self.num_train]\n",
        "        self.y_val_cls = y_train_cls[self.num_train:]\n",
        "\n",
        "        # Download / load the test-set.\n",
        "        self.x_test = self._load_images(filename=filename_x_test) / 255.0\n",
        "        self.y_test_cls = self._load_cls(filename=filename_y_test)\n",
        "\n",
        "        # Convert the class-numbers from bytes to ints as that is needed\n",
        "        # some places in TensorFlow.\n",
        "        self.y_train_cls = self.y_train_cls.astype(np.int)\n",
        "        self.y_val_cls = self.y_val_cls.astype(np.int)\n",
        "        self.y_test_cls = self.y_test_cls.astype(np.int)\n",
        "\n",
        "        # Convert the integer class-numbers into one-hot encoded arrays.\n",
        "        self.y_train = one_hot_encoded(class_numbers=self.y_train_cls,\n",
        "                                       num_classes=self.num_classes)\n",
        "        self.y_val = one_hot_encoded(class_numbers=self.y_val_cls,\n",
        "                                     num_classes=self.num_classes)\n",
        "        self.y_test = one_hot_encoded(class_numbers=self.y_test_cls,\n",
        "                                      num_classes=self.num_classes)\n",
        "\n",
        "    def _load_data(self, filename, offset):\n",
        "        \"\"\"\n",
        "        Load the data in the given file. Automatically downloads the file\n",
        "        if it does not already exist in the data_dir.\n",
        "\n",
        "        :param filename: Name of the data-file.\n",
        "        :param offset: Start offset in bytes when reading the data-file.\n",
        "        :return: The data as a numpy array.\n",
        "        \"\"\"\n",
        "\n",
        "        # Download the file from the internet if it does not exist locally.\n",
        "        download(base_url=base_url, filename=filename, download_dir=self.data_dir)\n",
        "\n",
        "        # Read the data-file.\n",
        "        path = os.path.join(self.data_dir, filename)\n",
        "        with gzip.open(path, 'rb') as f:\n",
        "            data = np.frombuffer(f.read(), np.uint8, offset=offset)\n",
        "\n",
        "        return data\n",
        "\n",
        "    def _load_images(self, filename):\n",
        "        \"\"\"\n",
        "        Load image-data from the given file.\n",
        "        Automatically downloads the file if it does not exist locally.\n",
        "\n",
        "        :param filename: Name of the data-file.\n",
        "        :return: Numpy array.\n",
        "        \"\"\"\n",
        "\n",
        "        # Read the data as one long array of bytes.\n",
        "        data = self._load_data(filename=filename, offset=16)\n",
        "\n",
        "        # Reshape to 2-dim array with shape (num_images, img_size_flat).\n",
        "        images_flat = data.reshape(-1, self.img_size_flat)\n",
        "\n",
        "        return images_flat\n",
        "\n",
        "    def _load_cls(self, filename):\n",
        "        \"\"\"\n",
        "        Load class-numbers from the given file.\n",
        "        Automatically downloads the file if it does not exist locally.\n",
        "\n",
        "        :param filename: Name of the data-file.\n",
        "        :return: Numpy array.\n",
        "        \"\"\"\n",
        "        return self._load_data(filename=filename, offset=8)\n",
        "\n",
        "    def random_batch(self, batch_size=32):\n",
        "        \"\"\"\n",
        "        Create a random batch of training-data.\n",
        "\n",
        "        :param batch_size: Number of images in the batch.\n",
        "        :return: 3 numpy arrays (x, y, y_cls)\n",
        "        \"\"\"\n",
        "\n",
        "        # Create a random index into the training-set.\n",
        "        idx = np.random.randint(low=0, high=self.num_train, size=batch_size)\n",
        "\n",
        "        # Use the index to lookup random training-data.\n",
        "        x_batch = self.x_train[idx]\n",
        "        y_batch = self.y_train[idx]\n",
        "        y_batch_cls = self.y_train_cls[idx]\n",
        "\n",
        "        return x_batch, y_batch, y_batch_cls\n",
        "\n",
        "\n",
        "########################################################################"
      ],
      "execution_count": 0,
      "outputs": []
    },
    {
      "cell_type": "markdown",
      "metadata": {
        "id": "6FAVaY4cvNK7",
        "colab_type": "text"
      },
      "source": [
        "The MNIST data-set is about 12 MB and will be downloaded automatically if it is not located in the given path."
      ]
    },
    {
      "cell_type": "code",
      "metadata": {
        "id": "aTEcM_SyvNK8",
        "colab_type": "code",
        "colab": {}
      },
      "source": [
        "data = MNIST(data_dir=\"data/MNIST/\")"
      ],
      "execution_count": 0,
      "outputs": []
    },
    {
      "cell_type": "markdown",
      "metadata": {
        "id": "7d1pdpfwvNK-",
        "colab_type": "text"
      },
      "source": [
        "The MNIST data-set has now been loaded and consists of 70.000 images and class-numbers for the images. The data-set is split into 3 mutually exclusive sub-sets. We will only use the training and test-sets in this tutorial."
      ]
    },
    {
      "cell_type": "code",
      "metadata": {
        "scrolled": true,
        "id": "bWpk-feCvNK-",
        "colab_type": "code",
        "colab": {}
      },
      "source": [
        "print(\"Size of:\")\n",
        "print(\"- Training-set:\\t\\t{}\".format(data.num_train))\n",
        "print(\"- Validation-set:\\t{}\".format(data.num_val))\n",
        "print(\"- Test-set:\\t\\t{}\".format(data.num_test))"
      ],
      "execution_count": 0,
      "outputs": []
    },
    {
      "cell_type": "markdown",
      "metadata": {
        "id": "9ccnzIoJvNLA",
        "colab_type": "text"
      },
      "source": [
        "Copy some of the data-dimensions for convenience."
      ]
    },
    {
      "cell_type": "code",
      "metadata": {
        "id": "Op6H8VQkvNLB",
        "colab_type": "code",
        "colab": {}
      },
      "source": [
        "# The number of pixels in each dimension of an image.\n",
        "img_size = data.img_size\n",
        "\n",
        "# The images are stored in one-dimensional arrays of this length.\n",
        "img_size_flat = data.img_size_flat\n",
        "\n",
        "# Tuple with height and width of images used to reshape arrays.\n",
        "img_shape = data.img_shape\n",
        "\n",
        "# Number of classes, one class for each of 10 digits.\n",
        "num_classes = data.num_classes\n",
        "\n",
        "# Number of colour channels for the images: 1 channel for gray-scale.\n",
        "num_channels = data.num_channels"
      ],
      "execution_count": 0,
      "outputs": []
    },
    {
      "cell_type": "markdown",
      "metadata": {
        "id": "muTo8SoJvNLC",
        "colab_type": "text"
      },
      "source": [
        "### Helper-function for plotting images"
      ]
    },
    {
      "cell_type": "markdown",
      "metadata": {
        "id": "Ef_xCoP8vNLD",
        "colab_type": "text"
      },
      "source": [
        "Function used to plot 9 images in a 3x3 grid, and writing the true and predicted classes below each image."
      ]
    },
    {
      "cell_type": "code",
      "metadata": {
        "id": "J_FremnavNLF",
        "colab_type": "code",
        "colab": {}
      },
      "source": [
        "def plot_images(images, cls_true, cls_pred=None):\n",
        "    assert len(images) == len(cls_true) == 9\n",
        "    \n",
        "    # Create figure with 3x3 sub-plots.\n",
        "    fig, axes = plt.subplots(3, 3)\n",
        "    fig.subplots_adjust(hspace=0.3, wspace=0.3)\n",
        "\n",
        "    for i, ax in enumerate(axes.flat):\n",
        "        # Plot image.\n",
        "        ax.imshow(images[i].reshape(img_shape), cmap='binary')\n",
        "\n",
        "        # Show true and predicted classes.\n",
        "        if cls_pred is None:\n",
        "            xlabel = \"True: {0}\".format(cls_true[i])\n",
        "        else:\n",
        "            xlabel = \"True: {0}, Pred: {1}\".format(cls_true[i], cls_pred[i])\n",
        "\n",
        "        # Show the classes as the label on the x-axis.\n",
        "        ax.set_xlabel(xlabel)\n",
        "        \n",
        "        # Remove ticks from the plot.\n",
        "        ax.set_xticks([])\n",
        "        ax.set_yticks([])\n",
        "    \n",
        "    # Ensure the plot is shown correctly with multiple plots\n",
        "    # in a single Notebook cell.\n",
        "    plt.show()"
      ],
      "execution_count": 0,
      "outputs": []
    },
    {
      "cell_type": "markdown",
      "metadata": {
        "id": "r8nwsYf0vNLG",
        "colab_type": "text"
      },
      "source": [
        "### Plot a few images to see if data is correct"
      ]
    },
    {
      "cell_type": "code",
      "metadata": {
        "id": "F_5aQ3PmvNLH",
        "colab_type": "code",
        "colab": {}
      },
      "source": [
        "# Get the first images from the test-set.\n",
        "images = data.x_test[0:9]\n",
        "\n",
        "# Get the true classes for those images.\n",
        "cls_true = data.y_test_cls[0:9]\n",
        "\n",
        "# Plot the images and labels using our helper-function above.\n",
        "plot_images(images=images, cls_true=cls_true)"
      ],
      "execution_count": 0,
      "outputs": []
    },
    {
      "cell_type": "markdown",
      "metadata": {
        "id": "btCPcTH-vNLJ",
        "colab_type": "text"
      },
      "source": [
        "## TensorFlow Graph\n",
        "\n",
        "The entire purpose of TensorFlow is to have a so-called computational graph that can be executed much more efficiently than if the same calculations were to be performed directly in Python. TensorFlow can be more efficient than NumPy because TensorFlow knows the entire computation graph that must be executed, while NumPy only knows the computation of a single mathematical operation at a time.\n",
        "\n",
        "TensorFlow can also automatically calculate the gradients that are needed to optimize the variables of the graph so as to make the model perform better. This is because the graph is a combination of simple mathematical expressions so the gradient of the entire graph can be calculated using the chain-rule for derivatives.\n",
        "\n",
        "TensorFlow can also take advantage of multi-core CPUs as well as GPUs - and Google has even built special chips just for TensorFlow which are called TPUs (Tensor Processing Units) and are even faster than GPUs.\n",
        "\n",
        "A TensorFlow graph consists of the following parts which will be detailed below:\n",
        "\n",
        "* Placeholder variables used for inputting data to the graph.\n",
        "* Variables that are going to be optimized so as to make the convolutional network perform better.\n",
        "* The mathematical formulas for the convolutional network.\n",
        "* A cost measure that can be used to guide the optimization of the variables.\n",
        "* An optimization method which updates the variables.\n",
        "\n",
        "In addition, the TensorFlow graph may also contain various debugging statements e.g. for logging data to be displayed using TensorBoard, which is not covered in this tutorial."
      ]
    },
    {
      "cell_type": "markdown",
      "metadata": {
        "id": "2VWPhXctvNLJ",
        "colab_type": "text"
      },
      "source": [
        "### Helper-functions for creating new variables"
      ]
    },
    {
      "cell_type": "markdown",
      "metadata": {
        "id": "2OESGuTtvNLK",
        "colab_type": "text"
      },
      "source": [
        "Functions for creating new TensorFlow variables in the given shape and initializing them with random values. Note that the initialization is not actually done at this point, it is merely being defined in the TensorFlow graph."
      ]
    },
    {
      "cell_type": "code",
      "metadata": {
        "id": "Ct1BKBTTvNLL",
        "colab_type": "code",
        "colab": {}
      },
      "source": [
        "def new_weights(shape):\n",
        "    return tf.Variable(tf.truncated_normal(shape, stddev=0.05))"
      ],
      "execution_count": 0,
      "outputs": []
    },
    {
      "cell_type": "code",
      "metadata": {
        "id": "5LinDjEjvNLN",
        "colab_type": "code",
        "colab": {}
      },
      "source": [
        "def new_biases(length):\n",
        "    return tf.Variable(tf.constant(0.05, shape=[length]))"
      ],
      "execution_count": 0,
      "outputs": []
    },
    {
      "cell_type": "markdown",
      "metadata": {
        "id": "h6FjjmffvNLP",
        "colab_type": "text"
      },
      "source": [
        "### Helper-function for creating a new Convolutional Layer"
      ]
    },
    {
      "cell_type": "markdown",
      "metadata": {
        "id": "x_T7KlfkvNLP",
        "colab_type": "text"
      },
      "source": [
        "This function creates a new convolutional layer in the computational graph for TensorFlow. Nothing is actually calculated here, we are just adding the mathematical formulas to the TensorFlow graph.\n",
        "\n",
        "It is assumed that the input is a 4-dim tensor with the following dimensions:\n",
        "\n",
        "1. Image number.\n",
        "2. Y-axis of each image.\n",
        "3. X-axis of each image.\n",
        "4. Channels of each image.\n",
        "\n",
        "Note that the input channels may either be colour-channels, or it may be filter-channels if the input is produced from a previous convolutional layer.\n",
        "\n",
        "The output is another 4-dim tensor with the following dimensions:\n",
        "\n",
        "1. Image number, same as input.\n",
        "2. Y-axis of each image. If 2x2 pooling is used, then the height and width of the input images is divided by 2.\n",
        "3. X-axis of each image. Ditto.\n",
        "4. Channels produced by the convolutional filters."
      ]
    },
    {
      "cell_type": "code",
      "metadata": {
        "id": "amVt_CKdvNLQ",
        "colab_type": "code",
        "colab": {}
      },
      "source": [
        "def new_conv_layer(input,              # The previous layer.\n",
        "                   num_input_channels, # Num. channels in prev. layer.\n",
        "                   filter_size,        # Width and height of each filter.\n",
        "                   num_filters,        # Number of filters.\n",
        "                   use_pooling=True):  # Use 2x2 max-pooling.\n",
        "\n",
        "    # Shape of the filter-weights for the convolution.\n",
        "    # This format is determined by the TensorFlow API.\n",
        "    shape = [filter_size, filter_size, num_input_channels, num_filters]\n",
        "\n",
        "    # Create new weights aka. filters with the given shape.\n",
        "    weights = new_weights(shape=shape)\n",
        "\n",
        "    # Create new biases, one for each filter.\n",
        "    biases = new_biases(length=num_filters)\n",
        "\n",
        "    # Create the TensorFlow operation for convolution.\n",
        "    # Note the strides are set to 1 in all dimensions.\n",
        "    # The first and last stride must always be 1,\n",
        "    # because the first is for the image-number and\n",
        "    # the last is for the input-channel.\n",
        "    # But e.g. strides=[1, 2, 2, 1] would mean that the filter\n",
        "    # is moved 2 pixels across the x- and y-axis of the image.\n",
        "    # The padding is set to 'SAME' which means the input image\n",
        "    # is padded with zeroes so the size of the output is the same.\n",
        "    layer = tf.nn.conv2d(input=input,\n",
        "                         filter=weights,\n",
        "                         strides=[1, 1, 1, 1],\n",
        "                         padding='SAME')\n",
        "\n",
        "    # Add the biases to the results of the convolution.\n",
        "    # A bias-value is added to each filter-channel.\n",
        "    layer += biases\n",
        "\n",
        "    # Use pooling to down-sample the image resolution?\n",
        "    if use_pooling:\n",
        "        # This is 2x2 max-pooling, which means that we\n",
        "        # consider 2x2 windows and select the largest value\n",
        "        # in each window. Then we move 2 pixels to the next window.\n",
        "        layer = tf.nn.max_pool(value=layer,\n",
        "                               ksize=[1, 2, 2, 1],\n",
        "                               strides=[1, 2, 2, 1],\n",
        "                               padding='SAME')\n",
        "\n",
        "    # Rectified Linear Unit (ReLU).\n",
        "    # It calculates max(x, 0) for each input pixel x.\n",
        "    # This adds some non-linearity to the formula and allows us\n",
        "    # to learn more complicated functions.\n",
        "    layer = tf.nn.relu(layer)\n",
        "\n",
        "    # Note that ReLU is normally executed before the pooling,\n",
        "    # but since relu(max_pool(x)) == max_pool(relu(x)) we can\n",
        "    # save 75% of the relu-operations by max-pooling first.\n",
        "\n",
        "    # We return both the resulting layer and the filter-weights\n",
        "    # because we will plot the weights later.\n",
        "    return layer, weights"
      ],
      "execution_count": 0,
      "outputs": []
    },
    {
      "cell_type": "markdown",
      "metadata": {
        "id": "LrryZ6SEvNLR",
        "colab_type": "text"
      },
      "source": [
        "### Helper-function for flattening a layer\n",
        "\n",
        "A convolutional layer produces an output tensor with 4 dimensions. We will add fully-connected layers after the convolution layers, so we need to reduce the 4-dim tensor to 2-dim which can be used as input to the fully-connected layer."
      ]
    },
    {
      "cell_type": "code",
      "metadata": {
        "id": "ASpngcl3vNLS",
        "colab_type": "code",
        "colab": {}
      },
      "source": [
        "def flatten_layer(layer):\n",
        "    # Get the shape of the input layer.\n",
        "    layer_shape = layer.get_shape()\n",
        "\n",
        "    # The shape of the input layer is assumed to be:\n",
        "    # layer_shape == [num_images, img_height, img_width, num_channels]\n",
        "\n",
        "    # The number of features is: img_height * img_width * num_channels\n",
        "    # We can use a function from TensorFlow to calculate this.\n",
        "    num_features = layer_shape[1:4].num_elements()\n",
        "    \n",
        "    # Reshape the layer to [num_images, num_features].\n",
        "    # Note that we just set the size of the second dimension\n",
        "    # to num_features and the size of the first dimension to -1\n",
        "    # which means the size in that dimension is calculated\n",
        "    # so the total size of the tensor is unchanged from the reshaping.\n",
        "    layer_flat = tf.reshape(layer, [-1, num_features])\n",
        "\n",
        "    # The shape of the flattened layer is now:\n",
        "    # [num_images, img_height * img_width * num_channels]\n",
        "\n",
        "    # Return both the flattened layer and the number of features.\n",
        "    return layer_flat, num_features"
      ],
      "execution_count": 0,
      "outputs": []
    },
    {
      "cell_type": "markdown",
      "metadata": {
        "id": "zZcUuLEqvNLU",
        "colab_type": "text"
      },
      "source": [
        "### Helper-function for creating a new Fully-Connected Layer"
      ]
    },
    {
      "cell_type": "markdown",
      "metadata": {
        "id": "i5Ykd20hvNLU",
        "colab_type": "text"
      },
      "source": [
        "This function creates a new fully-connected layer in the computational graph for TensorFlow. Nothing is actually calculated here, we are just adding the mathematical formulas to the TensorFlow graph.\n",
        "\n",
        "It is assumed that the input is a 2-dim tensor of shape `[num_images, num_inputs]`. The output is a 2-dim tensor of shape `[num_images, num_outputs]`."
      ]
    },
    {
      "cell_type": "code",
      "metadata": {
        "id": "rDc4wOBivNLV",
        "colab_type": "code",
        "colab": {}
      },
      "source": [
        "def new_fc_layer(input,          # The previous layer.\n",
        "                 num_inputs,     # Num. inputs from prev. layer.\n",
        "                 num_outputs,    # Num. outputs.\n",
        "                 use_relu=True): # Use Rectified Linear Unit (ReLU)?\n",
        "\n",
        "    # Create new weights and biases.\n",
        "    weights = new_weights(shape=[num_inputs, num_outputs])\n",
        "    biases = new_biases(length=num_outputs)\n",
        "\n",
        "    # Calculate the layer as the matrix multiplication of\n",
        "    # the input and weights, and then add the bias-values.\n",
        "    layer = tf.matmul(input, weights) + biases\n",
        "\n",
        "    # Use ReLU?\n",
        "    if use_relu:\n",
        "        layer = tf.nn.relu(layer)\n",
        "\n",
        "    return layer"
      ],
      "execution_count": 0,
      "outputs": []
    },
    {
      "cell_type": "markdown",
      "metadata": {
        "id": "KDTsyvu3vNLY",
        "colab_type": "text"
      },
      "source": [
        "### Placeholder variables"
      ]
    },
    {
      "cell_type": "markdown",
      "metadata": {
        "id": "BVGYUF1PvNLZ",
        "colab_type": "text"
      },
      "source": [
        "Placeholder variables serve as the input to the TensorFlow computational graph that we may change each time we execute the graph. We call this feeding the placeholder variables and it is demonstrated further below.\n",
        "\n",
        "First we define the placeholder variable for the input images. This allows us to change the images that are input to the TensorFlow graph. This is a so-called tensor, which just means that it is a multi-dimensional vector or matrix. The data-type is set to `float32` and the shape is set to `[None, img_size_flat]`, where `None` means that the tensor may hold an arbitrary number of images with each image being a vector of length `img_size_flat`."
      ]
    },
    {
      "cell_type": "code",
      "metadata": {
        "id": "EQ0DroifvNLb",
        "colab_type": "code",
        "colab": {}
      },
      "source": [
        "x = tf.placeholder(tf.float32, shape=[None, img_size_flat], name='x')"
      ],
      "execution_count": 0,
      "outputs": []
    },
    {
      "cell_type": "markdown",
      "metadata": {
        "id": "OcZMG3m2vNLe",
        "colab_type": "text"
      },
      "source": [
        "The convolutional layers expect `x` to be encoded as a 4-dim tensor so we have to reshape it so its shape is instead `[num_images, img_height, img_width, num_channels]`. Note that `img_height == img_width == img_size` and `num_images` can be inferred automatically by using -1 for the size of the first dimension. So the reshape operation is:"
      ]
    },
    {
      "cell_type": "code",
      "metadata": {
        "id": "kJe340c8vNLe",
        "colab_type": "code",
        "colab": {}
      },
      "source": [
        "x_image = tf.reshape(x, [-1, img_size, img_size, num_channels])"
      ],
      "execution_count": 0,
      "outputs": []
    },
    {
      "cell_type": "markdown",
      "metadata": {
        "id": "oPLL5WcbvNLg",
        "colab_type": "text"
      },
      "source": [
        "Next we have the placeholder variable for the true labels associated with the images that were input in the placeholder variable `x`. The shape of this placeholder variable is `[None, num_classes]` which means it may hold an arbitrary number of labels and each label is a vector of length `num_classes` which is 10 in this case."
      ]
    },
    {
      "cell_type": "code",
      "metadata": {
        "id": "ez43uN7HvNLg",
        "colab_type": "code",
        "colab": {}
      },
      "source": [
        "y_true = tf.placeholder(tf.float32, shape=[None, num_classes], name='y_true')"
      ],
      "execution_count": 0,
      "outputs": []
    },
    {
      "cell_type": "markdown",
      "metadata": {
        "id": "fbQqygXUvNLj",
        "colab_type": "text"
      },
      "source": [
        "We could also have a placeholder variable for the class-number, but we will instead calculate it using argmax. Note that this is a TensorFlow operator so nothing is calculated at this point."
      ]
    },
    {
      "cell_type": "code",
      "metadata": {
        "id": "UrfILqCFvNLj",
        "colab_type": "code",
        "colab": {}
      },
      "source": [
        "y_true_cls = tf.argmax(y_true, axis=1)"
      ],
      "execution_count": 0,
      "outputs": []
    },
    {
      "cell_type": "markdown",
      "metadata": {
        "id": "iXUoyYrFvNLl",
        "colab_type": "text"
      },
      "source": [
        "### Convolutional Layer 1\n",
        "\n",
        "Create the first convolutional layer. It takes `x_image` as input and creates `num_filters1` different filters, each having width and height equal to `filter_size1`. Finally we wish to down-sample the image so it is half the size by using 2x2 max-pooling."
      ]
    },
    {
      "cell_type": "code",
      "metadata": {
        "id": "O779TAYfvNLm",
        "colab_type": "code",
        "colab": {}
      },
      "source": [
        "layer_conv1, weights_conv1 = \\\n",
        "    new_conv_layer(input=x_image,\n",
        "                   num_input_channels=num_channels,\n",
        "                   filter_size=filter_size1,\n",
        "                   num_filters=num_filters1,\n",
        "                   use_pooling=True)"
      ],
      "execution_count": 0,
      "outputs": []
    },
    {
      "cell_type": "markdown",
      "metadata": {
        "id": "_IGIkifgvNLn",
        "colab_type": "text"
      },
      "source": [
        "Check the shape of the tensor that will be output by the convolutional layer. It is (?, 14, 14, 16) which means that there is an arbitrary number of images (this is the ?), each image is 14 pixels wide and 14 pixels high, and there are 16 different channels, one channel for each of the filters."
      ]
    },
    {
      "cell_type": "code",
      "metadata": {
        "id": "sOvJRZ8fvNLo",
        "colab_type": "code",
        "colab": {}
      },
      "source": [
        "layer_conv1"
      ],
      "execution_count": 0,
      "outputs": []
    },
    {
      "cell_type": "markdown",
      "metadata": {
        "id": "Xv3bfv3kvNLp",
        "colab_type": "text"
      },
      "source": [
        "### Convolutional Layer 2\n",
        "\n",
        "Create the second convolutional layer, which takes as input the output from the first convolutional layer. The number of input channels corresponds to the number of filters in the first convolutional layer."
      ]
    },
    {
      "cell_type": "code",
      "metadata": {
        "id": "1-FDyFJovNLq",
        "colab_type": "code",
        "colab": {}
      },
      "source": [
        "layer_conv2, weights_conv2 = \\\n",
        "    new_conv_layer(input=layer_conv1,\n",
        "                   num_input_channels=num_filters1,\n",
        "                   filter_size=filter_size2,\n",
        "                   num_filters=num_filters2,\n",
        "                   use_pooling=True)"
      ],
      "execution_count": 0,
      "outputs": []
    },
    {
      "cell_type": "markdown",
      "metadata": {
        "id": "hj9BWcCmvNLs",
        "colab_type": "text"
      },
      "source": [
        "Check the shape of the tensor that will be output from this convolutional layer. The shape is (?, 7, 7, 36) where the ? again means that there is an arbitrary number of images, with each image having width and height of 7 pixels, and there are 36 channels, one for each filter."
      ]
    },
    {
      "cell_type": "code",
      "metadata": {
        "id": "x8JzPrKQvNLt",
        "colab_type": "code",
        "colab": {}
      },
      "source": [
        "layer_conv2"
      ],
      "execution_count": 0,
      "outputs": []
    },
    {
      "cell_type": "markdown",
      "metadata": {
        "id": "5pxC-4xsvNLv",
        "colab_type": "text"
      },
      "source": [
        "### Flatten Layer\n",
        "\n",
        "The convolutional layers output 4-dim tensors. We now wish to use these as input in a fully-connected network, which requires for the tensors to be reshaped or flattened to 2-dim tensors."
      ]
    },
    {
      "cell_type": "code",
      "metadata": {
        "id": "BRLnvEbBvNLv",
        "colab_type": "code",
        "colab": {}
      },
      "source": [
        "layer_flat, num_features = flatten_layer(layer_conv2)"
      ],
      "execution_count": 0,
      "outputs": []
    },
    {
      "cell_type": "markdown",
      "metadata": {
        "id": "LFl7n-ggvNLx",
        "colab_type": "text"
      },
      "source": [
        "Check that the tensors now have shape (?, 1764) which means there's an arbitrary number of images which have been flattened to vectors of length 1764 each. Note that 1764 = 7 x 7 x 36."
      ]
    },
    {
      "cell_type": "code",
      "metadata": {
        "id": "iXL36U9lvNLx",
        "colab_type": "code",
        "colab": {}
      },
      "source": [
        "layer_flat"
      ],
      "execution_count": 0,
      "outputs": []
    },
    {
      "cell_type": "code",
      "metadata": {
        "id": "8fyCAcZvvNLz",
        "colab_type": "code",
        "colab": {}
      },
      "source": [
        "num_features"
      ],
      "execution_count": 0,
      "outputs": []
    },
    {
      "cell_type": "markdown",
      "metadata": {
        "id": "4t0-WCEAvNL1",
        "colab_type": "text"
      },
      "source": [
        "### Fully-Connected Layer 1\n",
        "\n",
        "Add a fully-connected layer to the network. The input is the flattened layer from the previous convolution. The number of neurons or nodes in the fully-connected layer is `fc_size`. ReLU is used so we can learn non-linear relations."
      ]
    },
    {
      "cell_type": "code",
      "metadata": {
        "id": "ei8zp1khvNL1",
        "colab_type": "code",
        "colab": {}
      },
      "source": [
        "layer_fc1 = new_fc_layer(input=layer_flat,\n",
        "                         num_inputs=num_features,\n",
        "                         num_outputs=fc_size,\n",
        "                         use_relu=True)"
      ],
      "execution_count": 0,
      "outputs": []
    },
    {
      "cell_type": "markdown",
      "metadata": {
        "id": "c_rqBbUZvNL3",
        "colab_type": "text"
      },
      "source": [
        "Check that the output of the fully-connected layer is a tensor with shape (?, 128) where the ? means there is an arbitrary number of images and `fc_size` == 128."
      ]
    },
    {
      "cell_type": "code",
      "metadata": {
        "id": "YqyzQUU1vNL3",
        "colab_type": "code",
        "colab": {}
      },
      "source": [
        "layer_fc1"
      ],
      "execution_count": 0,
      "outputs": []
    },
    {
      "cell_type": "markdown",
      "metadata": {
        "id": "vnssdzGovNL5",
        "colab_type": "text"
      },
      "source": [
        "### Fully-Connected Layer 2\n",
        "\n",
        "Add another fully-connected layer that outputs vectors of length 10 for determining which of the 10 classes the input image belongs to. Note that ReLU is not used in this layer."
      ]
    },
    {
      "cell_type": "code",
      "metadata": {
        "id": "9huTh39cvNL5",
        "colab_type": "code",
        "colab": {}
      },
      "source": [
        "layer_fc2 = new_fc_layer(input=layer_fc1,\n",
        "                         num_inputs=fc_size,\n",
        "                         num_outputs=num_classes,\n",
        "                         use_relu=False)"
      ],
      "execution_count": 0,
      "outputs": []
    },
    {
      "cell_type": "code",
      "metadata": {
        "id": "BGEavGl5vNL7",
        "colab_type": "code",
        "colab": {}
      },
      "source": [
        "layer_fc2"
      ],
      "execution_count": 0,
      "outputs": []
    },
    {
      "cell_type": "markdown",
      "metadata": {
        "id": "Ta5hPZtZvNL9",
        "colab_type": "text"
      },
      "source": [
        "### Predicted Class"
      ]
    },
    {
      "cell_type": "markdown",
      "metadata": {
        "id": "lps8e5OvvNL9",
        "colab_type": "text"
      },
      "source": [
        "The second fully-connected layer estimates how likely it is that the input image belongs to each of the 10 classes. However, these estimates are a bit rough and difficult to interpret because the numbers may be very small or large, so we want to normalize them so that each element is limited between zero and one and the 10 elements sum to one. This is calculated using the so-called softmax function and the result is stored in `y_pred`."
      ]
    },
    {
      "cell_type": "code",
      "metadata": {
        "id": "w7GkHkSBvNL-",
        "colab_type": "code",
        "colab": {}
      },
      "source": [
        "y_pred = tf.nn.softmax(layer_fc2)"
      ],
      "execution_count": 0,
      "outputs": []
    },
    {
      "cell_type": "markdown",
      "metadata": {
        "id": "LR4FH8d_vNL_",
        "colab_type": "text"
      },
      "source": [
        "The class-number is the index of the largest element."
      ]
    },
    {
      "cell_type": "code",
      "metadata": {
        "id": "HAOO-ySyvNMA",
        "colab_type": "code",
        "colab": {}
      },
      "source": [
        "y_pred_cls = tf.argmax(y_pred, axis=1)"
      ],
      "execution_count": 0,
      "outputs": []
    },
    {
      "cell_type": "markdown",
      "metadata": {
        "id": "FsRX8PivvNMF",
        "colab_type": "text"
      },
      "source": [
        "### Cost-function to be optimized"
      ]
    },
    {
      "cell_type": "markdown",
      "metadata": {
        "id": "QGL21VLZvNMG",
        "colab_type": "text"
      },
      "source": [
        "To make the model better at classifying the input images, we must somehow change the variables for all the network layers. To do this we first need to know how well the model currently performs by comparing the predicted output of the model `y_pred` to the desired output `y_true`.\n",
        "\n",
        "The cross-entropy is a performance measure used in classification. The cross-entropy is a continuous function that is always positive and if the predicted output of the model exactly matches the desired output then the cross-entropy equals zero. The goal of optimization is therefore to minimize the cross-entropy so it gets as close to zero as possible by changing the variables of the network layers.\n",
        "\n",
        "TensorFlow has a built-in function for calculating the cross-entropy. Note that the function calculates the softmax internally so we must use the output of `layer_fc2` directly rather than `y_pred` which has already had the softmax applied."
      ]
    },
    {
      "cell_type": "code",
      "metadata": {
        "id": "gYgn2CYovNMH",
        "colab_type": "code",
        "colab": {}
      },
      "source": [
        "cross_entropy = tf.nn.softmax_cross_entropy_with_logits(logits=layer_fc2,\n",
        "                                                        labels=y_true)"
      ],
      "execution_count": 0,
      "outputs": []
    },
    {
      "cell_type": "markdown",
      "metadata": {
        "id": "H27FR1uEvNMJ",
        "colab_type": "text"
      },
      "source": [
        "We have now calculated the cross-entropy for each of the image classifications so we have a measure of how well the model performs on each image individually. But in order to use the cross-entropy to guide the optimization of the model's variables we need a single scalar value, so we simply take the average of the cross-entropy for all the image classifications."
      ]
    },
    {
      "cell_type": "code",
      "metadata": {
        "id": "-vyOql5nvNMJ",
        "colab_type": "code",
        "colab": {}
      },
      "source": [
        "cost = tf.reduce_mean(cross_entropy)"
      ],
      "execution_count": 0,
      "outputs": []
    },
    {
      "cell_type": "markdown",
      "metadata": {
        "id": "Q2qB1ORPvNML",
        "colab_type": "text"
      },
      "source": [
        "### Optimization Method"
      ]
    },
    {
      "cell_type": "markdown",
      "metadata": {
        "id": "JwW3cSKMvNML",
        "colab_type": "text"
      },
      "source": [
        "Now that we have a cost measure that must be minimized, we can then create an optimizer. In this case it is the `AdamOptimizer` which is an advanced form of Gradient Descent.\n",
        "\n",
        "Note that optimization is not performed at this point. In fact, nothing is calculated at all, we just add the optimizer-object to the TensorFlow graph for later execution."
      ]
    },
    {
      "cell_type": "code",
      "metadata": {
        "id": "VkYXPFs7vNML",
        "colab_type": "code",
        "colab": {}
      },
      "source": [
        "optimizer = tf.train.AdamOptimizer(learning_rate=1e-4).minimize(cost)"
      ],
      "execution_count": 0,
      "outputs": []
    },
    {
      "cell_type": "markdown",
      "metadata": {
        "id": "vZ1HXhXbvNMO",
        "colab_type": "text"
      },
      "source": [
        "### Performance Measures"
      ]
    },
    {
      "cell_type": "markdown",
      "metadata": {
        "id": "mmHNCODavNMP",
        "colab_type": "text"
      },
      "source": [
        "We need a few more performance measures to display the progress to the user.\n",
        "\n",
        "This is a vector of booleans whether the predicted class equals the true class of each image."
      ]
    },
    {
      "cell_type": "code",
      "metadata": {
        "id": "qgZ0vVipvNMQ",
        "colab_type": "code",
        "colab": {}
      },
      "source": [
        "correct_prediction = tf.equal(y_pred_cls, y_true_cls)"
      ],
      "execution_count": 0,
      "outputs": []
    },
    {
      "cell_type": "markdown",
      "metadata": {
        "id": "W0PmFSt1vNMT",
        "colab_type": "text"
      },
      "source": [
        "This calculates the classification accuracy by first type-casting the vector of booleans to floats, so that False becomes 0 and True becomes 1, and then calculating the average of these numbers."
      ]
    },
    {
      "cell_type": "code",
      "metadata": {
        "id": "rqukADYmvNMT",
        "colab_type": "code",
        "colab": {}
      },
      "source": [
        "accuracy = tf.reduce_mean(tf.cast(correct_prediction, tf.float32))"
      ],
      "execution_count": 0,
      "outputs": []
    },
    {
      "cell_type": "markdown",
      "metadata": {
        "id": "cD7cGjinvNMU",
        "colab_type": "text"
      },
      "source": [
        "## TensorFlow Run"
      ]
    },
    {
      "cell_type": "markdown",
      "metadata": {
        "id": "3oCNked8vNMV",
        "colab_type": "text"
      },
      "source": [
        "### Create TensorFlow session\n",
        "\n",
        "Once the TensorFlow graph has been created, we have to create a TensorFlow session which is used to execute the graph."
      ]
    },
    {
      "cell_type": "code",
      "metadata": {
        "id": "0sT5th3FvNMV",
        "colab_type": "code",
        "colab": {}
      },
      "source": [
        "session = tf.Session()"
      ],
      "execution_count": 0,
      "outputs": []
    },
    {
      "cell_type": "markdown",
      "metadata": {
        "id": "gJ5dGM0lvNMW",
        "colab_type": "text"
      },
      "source": [
        "### Initialize variables\n",
        "\n",
        "The variables for `weights` and `biases` must be initialized before we start optimizing them."
      ]
    },
    {
      "cell_type": "code",
      "metadata": {
        "id": "FPNjC7emvNMW",
        "colab_type": "code",
        "colab": {}
      },
      "source": [
        "session.run(tf.global_variables_initializer())"
      ],
      "execution_count": 0,
      "outputs": []
    },
    {
      "cell_type": "markdown",
      "metadata": {
        "id": "RAUUGS0pvNMY",
        "colab_type": "text"
      },
      "source": [
        "### Helper-function to perform optimization iterations"
      ]
    },
    {
      "cell_type": "markdown",
      "metadata": {
        "id": "69ia3MyqvNMY",
        "colab_type": "text"
      },
      "source": [
        "There are 55,000 images in the training-set. It takes a long time to calculate the gradient of the model using all these images. We therefore only use a small batch of images in each iteration of the optimizer.\n",
        "\n",
        "If your computer crashes or becomes very slow because you run out of RAM, then you may try and lower this number, but you may then need to perform more optimization iterations."
      ]
    },
    {
      "cell_type": "code",
      "metadata": {
        "id": "lGApgIPQvNMY",
        "colab_type": "code",
        "colab": {}
      },
      "source": [
        "train_batch_size = 64"
      ],
      "execution_count": 0,
      "outputs": []
    },
    {
      "cell_type": "markdown",
      "metadata": {
        "id": "La2_UDc8vNMZ",
        "colab_type": "text"
      },
      "source": [
        "Function for performing a number of optimization iterations so as to gradually improve the variables of the network layers. In each iteration, a new batch of data is selected from the training-set and then TensorFlow executes the optimizer using those training samples.  The progress is printed every 100 iterations."
      ]
    },
    {
      "cell_type": "code",
      "metadata": {
        "id": "JUeWT0iMvNMa",
        "colab_type": "code",
        "colab": {}
      },
      "source": [
        "# Counter for total number of iterations performed so far.\n",
        "total_iterations = 0\n",
        "\n",
        "def optimize(num_iterations):\n",
        "    # Ensure we update the global variable rather than a local copy.\n",
        "    global total_iterations\n",
        "\n",
        "    # Start-time used for printing time-usage below.\n",
        "    start_time = time.time()\n",
        "\n",
        "    for i in range(total_iterations,\n",
        "                   total_iterations + num_iterations):\n",
        "\n",
        "        # Get a batch of training examples.\n",
        "        # x_batch now holds a batch of images and\n",
        "        # y_true_batch are the true labels for those images.\n",
        "        x_batch, y_true_batch, _ = data.random_batch(batch_size=train_batch_size)\n",
        "\n",
        "        # Put the batch into a dict with the proper names\n",
        "        # for placeholder variables in the TensorFlow graph.\n",
        "        feed_dict_train = {x: x_batch,\n",
        "                           y_true: y_true_batch}\n",
        "\n",
        "        # Run the optimizer using this batch of training data.\n",
        "        # TensorFlow assigns the variables in feed_dict_train\n",
        "        # to the placeholder variables and then runs the optimizer.\n",
        "        session.run(optimizer, feed_dict=feed_dict_train)\n",
        "\n",
        "        # Print status every 100 iterations.\n",
        "        if i % 100 == 0:\n",
        "            # Calculate the accuracy on the training-set.\n",
        "            acc = session.run(accuracy, feed_dict=feed_dict_train)\n",
        "\n",
        "            # Message for printing.\n",
        "            msg = \"Optimization Iteration: {0:>6}, Training Accuracy: {1:>6.1%}\"\n",
        "\n",
        "            # Print it.\n",
        "            print(msg.format(i + 1, acc))\n",
        "\n",
        "    # Update the total number of iterations performed.\n",
        "    total_iterations += num_iterations\n",
        "\n",
        "    # Ending time.\n",
        "    end_time = time.time()\n",
        "\n",
        "    # Difference between start and end-times.\n",
        "    time_dif = end_time - start_time\n",
        "\n",
        "    # Print the time-usage.\n",
        "    print(\"Time usage: \" + str(timedelta(seconds=int(round(time_dif)))))"
      ],
      "execution_count": 0,
      "outputs": []
    },
    {
      "cell_type": "markdown",
      "metadata": {
        "id": "1RHWErp2vNMb",
        "colab_type": "text"
      },
      "source": [
        "### Helper-function to plot example errors"
      ]
    },
    {
      "cell_type": "markdown",
      "metadata": {
        "id": "iGxadYjavNMb",
        "colab_type": "text"
      },
      "source": [
        "Function for plotting examples of images from the test-set that have been mis-classified."
      ]
    },
    {
      "cell_type": "code",
      "metadata": {
        "id": "R14uj4JMvNMc",
        "colab_type": "code",
        "colab": {}
      },
      "source": [
        "def plot_example_errors(cls_pred, correct):\n",
        "    # This function is called from print_test_accuracy() below.\n",
        "\n",
        "    # cls_pred is an array of the predicted class-number for\n",
        "    # all images in the test-set.\n",
        "\n",
        "    # correct is a boolean array whether the predicted class\n",
        "    # is equal to the true class for each image in the test-set.\n",
        "\n",
        "    # Negate the boolean array.\n",
        "    incorrect = (correct == False)\n",
        "    \n",
        "    # Get the images from the test-set that have been\n",
        "    # incorrectly classified.\n",
        "    images = data.x_test[incorrect]\n",
        "    \n",
        "    # Get the predicted classes for those images.\n",
        "    cls_pred = cls_pred[incorrect]\n",
        "\n",
        "    # Get the true classes for those images.\n",
        "    cls_true = data.y_test_cls[incorrect]\n",
        "    \n",
        "    # Plot the first 9 images.\n",
        "    plot_images(images=images[0:9],\n",
        "                cls_true=cls_true[0:9],\n",
        "                cls_pred=cls_pred[0:9])"
      ],
      "execution_count": 0,
      "outputs": []
    },
    {
      "cell_type": "markdown",
      "metadata": {
        "id": "HEQX1tmCvNMe",
        "colab_type": "text"
      },
      "source": [
        "### Helper-function to plot confusion matrix"
      ]
    },
    {
      "cell_type": "code",
      "metadata": {
        "id": "8f_ywibSvNMe",
        "colab_type": "code",
        "colab": {}
      },
      "source": [
        "def plot_confusion_matrix(cls_pred):\n",
        "    # This is called from print_test_accuracy() below.\n",
        "\n",
        "    # cls_pred is an array of the predicted class-number for\n",
        "    # all images in the test-set.\n",
        "\n",
        "    # Get the true classifications for the test-set.\n",
        "    cls_true = data.y_test_cls\n",
        "    \n",
        "    # Get the confusion matrix using sklearn.\n",
        "    cm = confusion_matrix(y_true=cls_true,\n",
        "                          y_pred=cls_pred)\n",
        "\n",
        "    # Print the confusion matrix as text.\n",
        "    print(cm)\n",
        "\n",
        "    # Plot the confusion matrix as an image.\n",
        "    plt.matshow(cm)\n",
        "\n",
        "    # Make various adjustments to the plot.\n",
        "    plt.colorbar()\n",
        "    tick_marks = np.arange(num_classes)\n",
        "    plt.xticks(tick_marks, range(num_classes))\n",
        "    plt.yticks(tick_marks, range(num_classes))\n",
        "    plt.xlabel('Predicted')\n",
        "    plt.ylabel('True')\n",
        "\n",
        "    # Ensure the plot is shown correctly with multiple plots\n",
        "    # in a single Notebook cell.\n",
        "    plt.show()"
      ],
      "execution_count": 0,
      "outputs": []
    },
    {
      "cell_type": "markdown",
      "metadata": {
        "id": "irIoPKUGvNMf",
        "colab_type": "text"
      },
      "source": [
        "### Helper-function for showing the performance"
      ]
    },
    {
      "cell_type": "markdown",
      "metadata": {
        "id": "q9oxa1LOvNMg",
        "colab_type": "text"
      },
      "source": [
        "Function for printing the classification accuracy on the test-set.\n",
        "\n",
        "It takes a while to compute the classification for all the images in the test-set, that's why the results are re-used by calling the above functions directly from this function, so the classifications don't have to be recalculated by each function.\n",
        "\n",
        "Note that this function can use a lot of computer memory, which is why the test-set is split into smaller batches. If you have little RAM in your computer and it crashes, then you can try and lower the batch-size."
      ]
    },
    {
      "cell_type": "code",
      "metadata": {
        "id": "YgIZK28evNMg",
        "colab_type": "code",
        "colab": {}
      },
      "source": [
        "# Split the test-set into smaller batches of this size.\n",
        "test_batch_size = 256\n",
        "\n",
        "def print_test_accuracy(show_example_errors=False,\n",
        "                        show_confusion_matrix=False):\n",
        "\n",
        "    # Number of images in the test-set.\n",
        "    num_test = data.num_test\n",
        "\n",
        "    # Allocate an array for the predicted classes which\n",
        "    # will be calculated in batches and filled into this array.\n",
        "    cls_pred = np.zeros(shape=num_test, dtype=np.int)\n",
        "\n",
        "    # Now calculate the predicted classes for the batches.\n",
        "    # We will just iterate through all the batches.\n",
        "    # There might be a more clever and Pythonic way of doing this.\n",
        "\n",
        "    # The starting index for the next batch is denoted i.\n",
        "    i = 0\n",
        "\n",
        "    while i < num_test:\n",
        "        # The ending index for the next batch is denoted j.\n",
        "        j = min(i + test_batch_size, num_test)\n",
        "\n",
        "        # Get the images from the test-set between index i and j.\n",
        "        images = data.x_test[i:j, :]\n",
        "\n",
        "        # Get the associated labels.\n",
        "        labels = data.y_test[i:j, :]\n",
        "\n",
        "        # Create a feed-dict with these images and labels.\n",
        "        feed_dict = {x: images,\n",
        "                     y_true: labels}\n",
        "\n",
        "        # Calculate the predicted class using TensorFlow.\n",
        "        cls_pred[i:j] = session.run(y_pred_cls, feed_dict=feed_dict)\n",
        "\n",
        "        # Set the start-index for the next batch to the\n",
        "        # end-index of the current batch.\n",
        "        i = j\n",
        "\n",
        "    # Convenience variable for the true class-numbers of the test-set.\n",
        "    cls_true = data.y_test_cls\n",
        "\n",
        "    # Create a boolean array whether each image is correctly classified.\n",
        "    correct = (cls_true == cls_pred)\n",
        "\n",
        "    # Calculate the number of correctly classified images.\n",
        "    # When summing a boolean array, False means 0 and True means 1.\n",
        "    correct_sum = correct.sum()\n",
        "\n",
        "    # Classification accuracy is the number of correctly classified\n",
        "    # images divided by the total number of images in the test-set.\n",
        "    acc = float(correct_sum) / num_test\n",
        "\n",
        "    # Print the accuracy.\n",
        "    msg = \"Accuracy on Test-Set: {0:.1%} ({1} / {2})\"\n",
        "    print(msg.format(acc, correct_sum, num_test))\n",
        "\n",
        "    # Plot some examples of mis-classifications, if desired.\n",
        "    if show_example_errors:\n",
        "        print(\"Example errors:\")\n",
        "        plot_example_errors(cls_pred=cls_pred, correct=correct)\n",
        "\n",
        "    # Plot the confusion matrix, if desired.\n",
        "    if show_confusion_matrix:\n",
        "        print(\"Confusion Matrix:\")\n",
        "        plot_confusion_matrix(cls_pred=cls_pred)"
      ],
      "execution_count": 0,
      "outputs": []
    },
    {
      "cell_type": "markdown",
      "metadata": {
        "id": "uJ1aixQ7vNMi",
        "colab_type": "text"
      },
      "source": [
        "## Performance before any optimization\n",
        "\n",
        "The accuracy on the test-set is very low because the model variables have only been initialized and not optimized at all, so it just classifies the images randomly."
      ]
    },
    {
      "cell_type": "code",
      "metadata": {
        "id": "hq4ege31vNMi",
        "colab_type": "code",
        "colab": {}
      },
      "source": [
        "print_test_accuracy()"
      ],
      "execution_count": 0,
      "outputs": []
    },
    {
      "cell_type": "markdown",
      "metadata": {
        "id": "NwEXX2YDvNMk",
        "colab_type": "text"
      },
      "source": [
        "## Performance after 1 optimization iteration\n",
        "\n",
        "The classification accuracy does not improve much from just 1 optimization iteration, because the learning-rate for the optimizer is set very low."
      ]
    },
    {
      "cell_type": "code",
      "metadata": {
        "id": "EIV3JGo7vNMl",
        "colab_type": "code",
        "colab": {}
      },
      "source": [
        "optimize(num_iterations=1)"
      ],
      "execution_count": 0,
      "outputs": []
    },
    {
      "cell_type": "code",
      "metadata": {
        "scrolled": true,
        "id": "zfpfqdaZvNMm",
        "colab_type": "code",
        "colab": {}
      },
      "source": [
        "print_test_accuracy()"
      ],
      "execution_count": 0,
      "outputs": []
    },
    {
      "cell_type": "markdown",
      "metadata": {
        "id": "AoFHllZZvNMn",
        "colab_type": "text"
      },
      "source": [
        "## Performance after 100 optimization iterations\n",
        "\n",
        "After 100 optimization iterations, the model has significantly improved its classification accuracy."
      ]
    },
    {
      "cell_type": "code",
      "metadata": {
        "scrolled": true,
        "id": "95lbmfZPvNMn",
        "colab_type": "code",
        "colab": {}
      },
      "source": [
        "optimize(num_iterations=99) # We already performed 1 iteration above."
      ],
      "execution_count": 0,
      "outputs": []
    },
    {
      "cell_type": "code",
      "metadata": {
        "id": "WrevUpsCvNMp",
        "colab_type": "code",
        "colab": {}
      },
      "source": [
        "print_test_accuracy(show_example_errors=True)"
      ],
      "execution_count": 0,
      "outputs": []
    },
    {
      "cell_type": "markdown",
      "metadata": {
        "id": "CbWZ9rfnvNMr",
        "colab_type": "text"
      },
      "source": [
        "## Performance after 1000 optimization iterations\n",
        "\n",
        "After 1000 optimization iterations, the model has greatly increased its accuracy on the test-set to more than 90%."
      ]
    },
    {
      "cell_type": "code",
      "metadata": {
        "scrolled": false,
        "id": "wO6k_ky7vNMs",
        "colab_type": "code",
        "colab": {}
      },
      "source": [
        "optimize(num_iterations=900) # We performed 100 iterations above."
      ],
      "execution_count": 0,
      "outputs": []
    },
    {
      "cell_type": "code",
      "metadata": {
        "scrolled": true,
        "id": "7kxdXSSnvNMt",
        "colab_type": "code",
        "colab": {}
      },
      "source": [
        "print_test_accuracy(show_example_errors=True)"
      ],
      "execution_count": 0,
      "outputs": []
    },
    {
      "cell_type": "markdown",
      "metadata": {
        "id": "jQ9WrSwuvNMu",
        "colab_type": "text"
      },
      "source": [
        "## Performance after 10,000 optimization iterations\n",
        "\n",
        "After 10,000 optimization iterations, the model has a classification accuracy on the test-set of about 99%."
      ]
    },
    {
      "cell_type": "code",
      "metadata": {
        "scrolled": true,
        "id": "Ruuyv02nvNMv",
        "colab_type": "code",
        "colab": {}
      },
      "source": [
        "optimize(num_iterations=9000) # We performed 1000 iterations above."
      ],
      "execution_count": 0,
      "outputs": []
    },
    {
      "cell_type": "code",
      "metadata": {
        "scrolled": true,
        "id": "KhbyctJVvNMw",
        "colab_type": "code",
        "colab": {}
      },
      "source": [
        "print_test_accuracy(show_example_errors=True,\n",
        "                    show_confusion_matrix=True)"
      ],
      "execution_count": 0,
      "outputs": []
    },
    {
      "cell_type": "markdown",
      "metadata": {
        "id": "rwr5YORBvNMy",
        "colab_type": "text"
      },
      "source": [
        "## Visualization of Weights and Layers\n",
        "\n",
        "In trying to understand why the convolutional neural network can recognize handwritten digits, we will now visualize the weights of the convolutional filters and the resulting output images."
      ]
    },
    {
      "cell_type": "markdown",
      "metadata": {
        "id": "aJrKcO72vNMy",
        "colab_type": "text"
      },
      "source": [
        "### Helper-function for plotting convolutional weights"
      ]
    },
    {
      "cell_type": "code",
      "metadata": {
        "id": "vg9FXxPpvNMy",
        "colab_type": "code",
        "colab": {}
      },
      "source": [
        "def plot_conv_weights(weights, input_channel=0):\n",
        "    # Assume weights are TensorFlow ops for 4-dim variables\n",
        "    # e.g. weights_conv1 or weights_conv2.\n",
        "    \n",
        "    # Retrieve the values of the weight-variables from TensorFlow.\n",
        "    # A feed-dict is not necessary because nothing is calculated.\n",
        "    w = session.run(weights)\n",
        "\n",
        "    # Get the lowest and highest values for the weights.\n",
        "    # This is used to correct the colour intensity across\n",
        "    # the images so they can be compared with each other.\n",
        "    w_min = np.min(w)\n",
        "    w_max = np.max(w)\n",
        "\n",
        "    # Number of filters used in the conv. layer.\n",
        "    num_filters = w.shape[3]\n",
        "\n",
        "    # Number of grids to plot.\n",
        "    # Rounded-up, square-root of the number of filters.\n",
        "    num_grids = math.ceil(math.sqrt(num_filters))\n",
        "    \n",
        "    # Create figure with a grid of sub-plots.\n",
        "    fig, axes = plt.subplots(num_grids, num_grids)\n",
        "\n",
        "    # Plot all the filter-weights.\n",
        "    for i, ax in enumerate(axes.flat):\n",
        "        # Only plot the valid filter-weights.\n",
        "        if i<num_filters:\n",
        "            # Get the weights for the i'th filter of the input channel.\n",
        "            # See new_conv_layer() for details on the format\n",
        "            # of this 4-dim tensor.\n",
        "            img = w[:, :, input_channel, i]\n",
        "\n",
        "            # Plot image.\n",
        "            ax.imshow(img, vmin=w_min, vmax=w_max,\n",
        "                      interpolation='nearest', cmap='seismic')\n",
        "        \n",
        "        # Remove ticks from the plot.\n",
        "        ax.set_xticks([])\n",
        "        ax.set_yticks([])\n",
        "    \n",
        "    # Ensure the plot is shown correctly with multiple plots\n",
        "    # in a single Notebook cell.\n",
        "    plt.show()"
      ],
      "execution_count": 0,
      "outputs": []
    },
    {
      "cell_type": "markdown",
      "metadata": {
        "id": "o0MwfSSkvNM1",
        "colab_type": "text"
      },
      "source": [
        "### Helper-function for plotting the output of a convolutional layer"
      ]
    },
    {
      "cell_type": "code",
      "metadata": {
        "id": "ooRruSGhvNM2",
        "colab_type": "code",
        "colab": {}
      },
      "source": [
        "def plot_conv_layer(layer, image):\n",
        "    # Assume layer is a TensorFlow op that outputs a 4-dim tensor\n",
        "    # which is the output of a convolutional layer,\n",
        "    # e.g. layer_conv1 or layer_conv2.\n",
        "\n",
        "    # Create a feed-dict containing just one image.\n",
        "    # Note that we don't need to feed y_true because it is\n",
        "    # not used in this calculation.\n",
        "    feed_dict = {x: [image]}\n",
        "\n",
        "    # Calculate and retrieve the output values of the layer\n",
        "    # when inputting that image.\n",
        "    values = session.run(layer, feed_dict=feed_dict)\n",
        "\n",
        "    # Number of filters used in the conv. layer.\n",
        "    num_filters = values.shape[3]\n",
        "\n",
        "    # Number of grids to plot.\n",
        "    # Rounded-up, square-root of the number of filters.\n",
        "    num_grids = math.ceil(math.sqrt(num_filters))\n",
        "    \n",
        "    # Create figure with a grid of sub-plots.\n",
        "    fig, axes = plt.subplots(num_grids, num_grids)\n",
        "\n",
        "    # Plot the output images of all the filters.\n",
        "    for i, ax in enumerate(axes.flat):\n",
        "        # Only plot the images for valid filters.\n",
        "        if i<num_filters:\n",
        "            # Get the output image of using the i'th filter.\n",
        "            # See new_conv_layer() for details on the format\n",
        "            # of this 4-dim tensor.\n",
        "            img = values[0, :, :, i]\n",
        "\n",
        "            # Plot image.\n",
        "            ax.imshow(img, interpolation='nearest', cmap='binary')\n",
        "        \n",
        "        # Remove ticks from the plot.\n",
        "        ax.set_xticks([])\n",
        "        ax.set_yticks([])\n",
        "    \n",
        "    # Ensure the plot is shown correctly with multiple plots\n",
        "    # in a single Notebook cell.\n",
        "    plt.show()"
      ],
      "execution_count": 0,
      "outputs": []
    },
    {
      "cell_type": "markdown",
      "metadata": {
        "id": "EjN6JwyHvNM3",
        "colab_type": "text"
      },
      "source": [
        "### Input Images"
      ]
    },
    {
      "cell_type": "markdown",
      "metadata": {
        "id": "OYBBY1jqvNM4",
        "colab_type": "text"
      },
      "source": [
        "Helper-function for plotting an image."
      ]
    },
    {
      "cell_type": "code",
      "metadata": {
        "id": "HReoJcHavNM5",
        "colab_type": "code",
        "colab": {}
      },
      "source": [
        "def plot_image(image):\n",
        "    plt.imshow(image.reshape(img_shape),\n",
        "               interpolation='nearest',\n",
        "               cmap='binary')\n",
        "\n",
        "    plt.show()"
      ],
      "execution_count": 0,
      "outputs": []
    },
    {
      "cell_type": "markdown",
      "metadata": {
        "id": "YXd-PbiPvNM6",
        "colab_type": "text"
      },
      "source": [
        "Plot an image from the test-set which will be used as an example below."
      ]
    },
    {
      "cell_type": "code",
      "metadata": {
        "id": "e2Kb4hLBvNM7",
        "colab_type": "code",
        "colab": {}
      },
      "source": [
        "image1 = data.x_test[0]\n",
        "plot_image(image1)"
      ],
      "execution_count": 0,
      "outputs": []
    },
    {
      "cell_type": "markdown",
      "metadata": {
        "id": "6AvWeFvnvNM9",
        "colab_type": "text"
      },
      "source": [
        "Plot another example image from the test-set."
      ]
    },
    {
      "cell_type": "code",
      "metadata": {
        "id": "QgPhX4r7vNM9",
        "colab_type": "code",
        "colab": {}
      },
      "source": [
        "image2 = data.x_test[13]\n",
        "plot_image(image2)"
      ],
      "execution_count": 0,
      "outputs": []
    },
    {
      "cell_type": "markdown",
      "metadata": {
        "id": "xhH0XX-evNM-",
        "colab_type": "text"
      },
      "source": [
        "### Convolution Layer 1"
      ]
    },
    {
      "cell_type": "markdown",
      "metadata": {
        "id": "m5r_0xo2vNM-",
        "colab_type": "text"
      },
      "source": [
        "Now plot the filter-weights for the first convolutional layer.\n",
        "\n",
        "Note that positive weights are red and negative weights are blue."
      ]
    },
    {
      "cell_type": "code",
      "metadata": {
        "scrolled": false,
        "id": "RcAbEUcQvNM_",
        "colab_type": "code",
        "colab": {}
      },
      "source": [
        "plot_conv_weights(weights=weights_conv1)"
      ],
      "execution_count": 0,
      "outputs": []
    },
    {
      "cell_type": "markdown",
      "metadata": {
        "id": "zhywIph4vNND",
        "colab_type": "text"
      },
      "source": [
        "Applying each of these convolutional filters to the first input image gives the following output images, which are then used as input to the second convolutional layer. Note that these images are down-sampled to 14 x 14 pixels which is half the resolution of the original input image."
      ]
    },
    {
      "cell_type": "code",
      "metadata": {
        "scrolled": true,
        "id": "nug4VOAOvNND",
        "colab_type": "code",
        "colab": {}
      },
      "source": [
        "plot_conv_layer(layer=layer_conv1, image=image1)"
      ],
      "execution_count": 0,
      "outputs": []
    },
    {
      "cell_type": "markdown",
      "metadata": {
        "id": "OZoTL4g3vNNF",
        "colab_type": "text"
      },
      "source": [
        "The following images are the results of applying the convolutional filters to the second image."
      ]
    },
    {
      "cell_type": "code",
      "metadata": {
        "scrolled": false,
        "id": "aC7xOzYJvNNF",
        "colab_type": "code",
        "colab": {}
      },
      "source": [
        "plot_conv_layer(layer=layer_conv1, image=image2)"
      ],
      "execution_count": 0,
      "outputs": []
    },
    {
      "cell_type": "markdown",
      "metadata": {
        "id": "kviTccb-vNNI",
        "colab_type": "text"
      },
      "source": [
        "It is difficult to see from these images what the purpose of the convolutional filters might be. It appears that they have merely created several variations of the input image, as if light was shining from different angles and casting shadows in the image."
      ]
    },
    {
      "cell_type": "markdown",
      "metadata": {
        "id": "7aFGLsegvNNJ",
        "colab_type": "text"
      },
      "source": [
        "### Convolution Layer 2"
      ]
    },
    {
      "cell_type": "markdown",
      "metadata": {
        "id": "LARQ2l76vNNJ",
        "colab_type": "text"
      },
      "source": [
        "Now plot the filter-weights for the second convolutional layer.\n",
        "\n",
        "There are 16 output channels from the first conv-layer, which means there are 16 input channels to the second conv-layer. The second conv-layer has a set of filter-weights for each of its input channels. We start by plotting the filter-weigths for the first channel.\n",
        "\n",
        "Note again that positive weights are red and negative weights are blue."
      ]
    },
    {
      "cell_type": "code",
      "metadata": {
        "scrolled": false,
        "id": "sa3gkOgvvNNK",
        "colab_type": "code",
        "colab": {}
      },
      "source": [
        "plot_conv_weights(weights=weights_conv2, input_channel=0)"
      ],
      "execution_count": 0,
      "outputs": []
    },
    {
      "cell_type": "markdown",
      "metadata": {
        "id": "NkrZCf7cvNNL",
        "colab_type": "text"
      },
      "source": [
        "There are 16 input channels to the second convolutional layer, so we can make another 15 plots of filter-weights like this. We just make one more with the filter-weights for the second channel. "
      ]
    },
    {
      "cell_type": "code",
      "metadata": {
        "id": "y98QxrDXvNNM",
        "colab_type": "code",
        "colab": {}
      },
      "source": [
        "plot_conv_weights(weights=weights_conv2, input_channel=1)"
      ],
      "execution_count": 0,
      "outputs": []
    },
    {
      "cell_type": "markdown",
      "metadata": {
        "id": "Z_bjco_uvNNO",
        "colab_type": "text"
      },
      "source": [
        "It can be difficult to understand and keep track of how these filters are applied because of the high dimensionality.\n",
        "\n",
        "Applying these convolutional filters to the images that were ouput from the first conv-layer gives the following images.\n",
        "\n",
        "Note that these are down-sampled yet again to 7 x 7 pixels which is half the resolution of the images from the first conv-layer."
      ]
    },
    {
      "cell_type": "code",
      "metadata": {
        "scrolled": false,
        "id": "hNsBSe5OvNNO",
        "colab_type": "code",
        "colab": {}
      },
      "source": [
        "plot_conv_layer(layer=layer_conv2, image=image1)"
      ],
      "execution_count": 0,
      "outputs": []
    },
    {
      "cell_type": "markdown",
      "metadata": {
        "id": "0VkRFygTvNNR",
        "colab_type": "text"
      },
      "source": [
        "And these are the results of applying the filter-weights to the second image."
      ]
    },
    {
      "cell_type": "code",
      "metadata": {
        "scrolled": false,
        "id": "ms7zM-3XvNNR",
        "colab_type": "code",
        "colab": {}
      },
      "source": [
        "plot_conv_layer(layer=layer_conv2, image=image2)"
      ],
      "execution_count": 0,
      "outputs": []
    },
    {
      "cell_type": "markdown",
      "metadata": {
        "id": "kR2YikrvvNNS",
        "colab_type": "text"
      },
      "source": [
        "From these images, it looks like the second convolutional layer might detect lines and patterns in the input images, which are less sensitive to local variations in the original input images.\n",
        "\n",
        "These images are then flattened and input to the fully-connected layer, but that is not shown here."
      ]
    },
    {
      "cell_type": "markdown",
      "metadata": {
        "id": "Rg7QiYHWvNNU",
        "colab_type": "text"
      },
      "source": [
        "### Close TensorFlow Session"
      ]
    },
    {
      "cell_type": "markdown",
      "metadata": {
        "id": "EWzzOACEvNNV",
        "colab_type": "text"
      },
      "source": [
        "We are now done using TensorFlow, so we close the session to release its resources."
      ]
    },
    {
      "cell_type": "code",
      "metadata": {
        "id": "ajU182X-vNNV",
        "colab_type": "code",
        "colab": {}
      },
      "source": [
        "# This has been commented out in case you want to modify and experiment\n",
        "# with the Notebook without having to restart it.\n",
        "# session.close()"
      ],
      "execution_count": 0,
      "outputs": []
    },
    {
      "cell_type": "markdown",
      "metadata": {
        "id": "lOR07-67vNNX",
        "colab_type": "text"
      },
      "source": [
        "## Conclusion\n",
        "\n",
        "We have seen that a Convolutional Neural Network works much better at recognizing hand-written digits than the simple linear model in Tutorial #01. The Convolutional Network gets a classification accuracy of about 99%, or even more if you make some adjustments, compared to only 91% for the simple linear model.\n",
        "\n",
        "However, the Convolutional Network is also much more complicated to implement, and it is not obvious from looking at the filter-weights why it works and why it sometimes fails.\n",
        "\n",
        "So we would like an easier way to program Convolutional Neural Networks and we would also like a better way of visualizing their inner workings."
      ]
    },
    {
      "cell_type": "markdown",
      "metadata": {
        "id": "MhO-1lqovNNZ",
        "colab_type": "text"
      },
      "source": [
        "## License (MIT)\n",
        "\n",
        "Copyright (c) 2016 by [Magnus Erik Hvass Pedersen](http://www.hvass-labs.org/)\n",
        "\n",
        "Permission is hereby granted, free of charge, to any person obtaining a copy of this software and associated documentation files (the \"Software\"), to deal in the Software without restriction, including without limitation the rights to use, copy, modify, merge, publish, distribute, sublicense, and/or sell copies of the Software, and to permit persons to whom the Software is furnished to do so, subject to the following conditions:\n",
        "\n",
        "The above copyright notice and this permission notice shall be included in all copies or substantial portions of the Software.\n",
        "\n",
        "THE SOFTWARE IS PROVIDED \"AS IS\", WITHOUT WARRANTY OF ANY KIND, EXPRESS OR IMPLIED, INCLUDING BUT NOT LIMITED TO THE WARRANTIES OF MERCHANTABILITY, FITNESS FOR A PARTICULAR PURPOSE AND NONINFRINGEMENT. IN NO EVENT SHALL THE AUTHORS OR COPYRIGHT HOLDERS BE LIABLE FOR ANY CLAIM, DAMAGES OR OTHER LIABILITY, WHETHER IN AN ACTION OF CONTRACT, TORT OR OTHERWISE, ARISING FROM, OUT OF OR IN CONNECTION WITH THE SOFTWARE OR THE USE OR OTHER DEALINGS IN THE SOFTWARE."
      ]
    }
  ]
}