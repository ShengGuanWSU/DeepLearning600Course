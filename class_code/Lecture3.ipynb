{
  "nbformat": 4,
  "nbformat_minor": 0,
  "metadata": {
    "colab": {
      "name": "Lecture3",
      "version": "0.3.2",
      "provenance": [],
      "collapsed_sections": []
    },
    "kernelspec": {
      "name": "python3",
      "display_name": "Python 3"
    }
  },
  "cells": [
    {
      "cell_type": "code",
      "metadata": {
        "id": "kN36uCJD3zka",
        "colab_type": "code",
        "outputId": "462944b6-a0df-4f47-a99a-2e20e89e444c",
        "colab": {
          "base_uri": "https://localhost:8080/",
          "height": 51
        }
      },
      "source": [
        "import os\n",
        "import matplotlib.pyplot as plt\n",
        "import tensorflow as tf\n",
        "\n",
        "tf.enable_eager_execution()\n",
        "\n",
        "print(\"TensorFlow version: {}\".format(tf.__version__))\n",
        "print(\"Eager execution: {}\".format(tf.executing_eagerly()))"
      ],
      "execution_count": 1,
      "outputs": [
        {
          "output_type": "stream",
          "text": [
            "TensorFlow version: 1.14.0\n",
            "Eager execution: True\n"
          ],
          "name": "stdout"
        }
      ]
    },
    {
      "cell_type": "code",
      "metadata": {
        "id": "Tk4GGh2C3Idm",
        "colab_type": "code",
        "outputId": "fda545a8-d62d-461d-8508-ca52c2e93459",
        "colab": {
          "base_uri": "https://localhost:8080/",
          "height": 34
        }
      },
      "source": [
        "train_dataset_url = \"https://storage.googleapis.com/download.tensorflow.org/data/iris_training.csv\"\n",
        "\n",
        "train_dataset_fp = tf.keras.utils.get_file(fname=os.path.basename(train_dataset_url),\n",
        "                                           origin=train_dataset_url)\n",
        "\n",
        "print(\"Local copy of the dataset file: {}\".format(train_dataset_fp))"
      ],
      "execution_count": 2,
      "outputs": [
        {
          "output_type": "stream",
          "text": [
            "Local copy of the dataset file: /root/.keras/datasets/iris_training.csv\n"
          ],
          "name": "stdout"
        }
      ]
    },
    {
      "cell_type": "code",
      "metadata": {
        "id": "_W-BEgzB3YZ3",
        "colab_type": "code",
        "outputId": "1d142725-f89f-4fb7-92a9-bf21c5626ac9",
        "colab": {
          "base_uri": "https://localhost:8080/",
          "height": 119
        }
      },
      "source": [
        "!head -n5 {train_dataset_fp}\n",
        "!wc -l {train_dataset_fp}"
      ],
      "execution_count": 18,
      "outputs": [
        {
          "output_type": "stream",
          "text": [
            "120,4,setosa,versicolor,virginica\n",
            "6.4,2.8,5.6,2.2,2\n",
            "5.0,2.3,3.3,1.0,1\n",
            "4.9,2.5,4.5,1.7,2\n",
            "4.9,3.1,1.5,0.1,0\n",
            "121 /root/.keras/datasets/iris_training.csv\n"
          ],
          "name": "stdout"
        }
      ]
    },
    {
      "cell_type": "code",
      "metadata": {
        "id": "zwbg1hdr3dBv",
        "colab_type": "code",
        "outputId": "5452f3f9-7e93-4442-da02-927e5fbc1271",
        "colab": {
          "base_uri": "https://localhost:8080/",
          "height": 51
        }
      },
      "source": [
        "# column order in CSV file\n",
        "column_names = ['sepal_length', 'sepal_width', 'petal_length', 'petal_width', 'species']\n",
        "class_names = ['Iris setosa', 'Iris versicolor', 'Iris virginica']\n",
        "\n",
        "feature_names = column_names[:-1]\n",
        "label_name = column_names[-1]\n",
        "\n",
        "print(\"Features: {}\".format(feature_names))\n",
        "print(\"Label: {}\".format(label_name))"
      ],
      "execution_count": 4,
      "outputs": [
        {
          "output_type": "stream",
          "text": [
            "Features: ['sepal_length', 'sepal_width', 'petal_length', 'petal_width']\n",
            "Label: species\n"
          ],
          "name": "stdout"
        }
      ]
    },
    {
      "cell_type": "code",
      "metadata": {
        "id": "sQhxvfD43g4W",
        "colab_type": "code",
        "colab": {}
      },
      "source": [
        "batch_size = 32\n",
        "\n",
        "train_dataset = tf.contrib.data.make_csv_dataset(\n",
        "    train_dataset_fp,\n",
        "    batch_size,\n",
        "    column_names=column_names,\n",
        "    label_name=label_name,\n",
        "    num_epochs=1)"
      ],
      "execution_count": 0,
      "outputs": []
    },
    {
      "cell_type": "code",
      "metadata": {
        "id": "k_oKg1Sg3oZf",
        "colab_type": "code",
        "outputId": "3316aa7e-abe2-4e6e-93e9-a20c8e48f815",
        "colab": {
          "base_uri": "https://localhost:8080/",
          "height": 357
        }
      },
      "source": [
        "features, labels = next(iter(train_dataset))\n",
        "\n",
        "features"
      ],
      "execution_count": 25,
      "outputs": [
        {
          "output_type": "execute_result",
          "data": {
            "text/plain": [
              "OrderedDict([('sepal_length',\n",
              "              <tf.Tensor: id=28192, shape=(32,), dtype=float32, numpy=\n",
              "              array([5. , 4.9, 4.7, 5.1, 6.5, 6.7, 6.4, 6.9, 6.9, 5.2, 6.4, 4.7, 4.8,\n",
              "                     6.7, 5.8, 7.7, 5.7, 6.8, 5.8, 6. , 5.2, 4.8, 6.1, 5.7, 5. , 6. ,\n",
              "                     4.4, 6.8, 5.4, 5. , 6.6, 5.4], dtype=float32)>),\n",
              "             ('sepal_width',\n",
              "              <tf.Tensor: id=28193, shape=(32,), dtype=float32, numpy=\n",
              "              array([3.2, 3.1, 3.2, 3.8, 3.2, 3. , 3.2, 3.1, 3.1, 3.4, 3.2, 3.2, 3. ,\n",
              "                     3.3, 2.7, 3.8, 2.8, 3.2, 2.7, 3. , 2.7, 3.1, 2.8, 3.8, 3.4, 2.2,\n",
              "                     2.9, 2.8, 3.4, 3. , 2.9, 3.9], dtype=float32)>),\n",
              "             ('petal_length',\n",
              "              <tf.Tensor: id=28190, shape=(32,), dtype=float32, numpy=\n",
              "              array([1.2, 1.5, 1.6, 1.5, 5.1, 5.2, 4.5, 4.9, 5.1, 1.4, 5.3, 1.3, 1.4,\n",
              "                     5.7, 5.1, 6.7, 4.5, 5.9, 5.1, 4.8, 3.9, 1.6, 4. , 1.7, 1.6, 5. ,\n",
              "                     1.4, 4.8, 1.5, 1.6, 4.6, 1.3], dtype=float32)>),\n",
              "             ('petal_width',\n",
              "              <tf.Tensor: id=28191, shape=(32,), dtype=float32, numpy=\n",
              "              array([0.2, 0.1, 0.2, 0.3, 2. , 2.3, 1.5, 1.5, 2.3, 0.2, 2.3, 0.2, 0.3,\n",
              "                     2.1, 1.9, 2.2, 1.3, 2.3, 1.9, 1.8, 1.4, 0.2, 1.3, 0.3, 0.4, 1.5,\n",
              "                     0.2, 1.4, 0.4, 0.2, 1.3, 0.4], dtype=float32)>)])"
            ]
          },
          "metadata": {
            "tags": []
          },
          "execution_count": 25
        }
      ]
    },
    {
      "cell_type": "code",
      "metadata": {
        "id": "y5iwM5v33vPu",
        "colab_type": "code",
        "outputId": "980d9478-40b6-4fcd-ea89-e9d213d401f6",
        "colab": {
          "base_uri": "https://localhost:8080/",
          "height": 283
        }
      },
      "source": [
        "plt.scatter(features['petal_length'].numpy(),\n",
        "            features['sepal_length'].numpy(),\n",
        "            c=labels.numpy(),\n",
        "            cmap='viridis')\n",
        "\n",
        "plt.xlabel(\"Petal length\")\n",
        "plt.ylabel(\"Sepal length\")\n",
        "plt.show()"
      ],
      "execution_count": 7,
      "outputs": [
        {
          "output_type": "display_data",
          "data": {
            "image/png": "[encoded data removed]",
            "text/plain": [
              "<Figure size 432x288 with 1 Axes>"
            ]
          },
          "metadata": {
            "tags": []
          }
        }
      ]
    },
    {
      "cell_type": "code",
      "metadata": {
        "id": "UPt6LnyM30hf",
        "colab_type": "code",
        "colab": {}
      },
      "source": [
        "def pack_features_vector(features, labels):\n",
        "  \"\"\"Pack the features into a single array.\"\"\"\n",
        "  features = tf.stack(list(features.values()), axis=1)\n",
        "  return features, labels\n",
        "train_dataset = train_dataset.map(pack_features_vector)"
      ],
      "execution_count": 0,
      "outputs": []
    },
    {
      "cell_type": "code",
      "metadata": {
        "id": "fEv3We2V33qQ",
        "colab_type": "code",
        "outputId": "3fd960cd-abb6-4c26-8f67-cce30caca202",
        "colab": {
          "base_uri": "https://localhost:8080/",
          "height": 221
        }
      },
      "source": [
        "features, labels = next(iter(train_dataset))\n",
        "\n",
        "print(features[:5])\n",
        "print(tf.one_hot(labels[:5], 3, dtype='float32'))"
      ],
      "execution_count": 29,
      "outputs": [
        {
          "output_type": "stream",
          "text": [
            "tf.Tensor(\n",
            "[[5.  3.2 1.2 0.2]\n",
            " [4.9 3.1 1.5 0.1]\n",
            " [4.7 3.2 1.6 0.2]\n",
            " [5.1 3.8 1.5 0.3]\n",
            " [6.5 3.2 5.1 2. ]], shape=(5, 4), dtype=float32)\n",
            "tf.Tensor(\n",
            "[[1. 0. 0.]\n",
            " [1. 0. 0.]\n",
            " [1. 0. 0.]\n",
            " [1. 0. 0.]\n",
            " [0. 0. 1.]], shape=(5, 3), dtype=float32)\n"
          ],
          "name": "stdout"
        }
      ]
    },
    {
      "cell_type": "code",
      "metadata": {
        "id": "o1uz-84u45zH",
        "colab_type": "code",
        "outputId": "f7c21945-469c-4ec8-c132-03701de3706a",
        "colab": {
          "base_uri": "https://localhost:8080/",
          "height": 119
        }
      },
      "source": [
        "class Model(object):\n",
        "  def __init__(self, num_hidden=3, num_output=3, num_inputs=4):\n",
        "    self.b1 = tf.Variable(tf.random.normal(\n",
        "                  (1, num_hidden),\n",
        "                  mean=0.0,\n",
        "                  stddev=1.0,\n",
        "                  dtype=tf.dtypes.float32,\n",
        "                  seed=None,\n",
        "                  name='b1'))\n",
        "    self.W1 = tf.Variable(tf.random.normal(\n",
        "                  (num_inputs, num_hidden),\n",
        "                   mean=0.0,\n",
        "                  stddev=1.0,\n",
        "                  dtype=tf.dtypes.float32,\n",
        "                  seed=None,\n",
        "                  name='W1'))\n",
        "    self.b2 = tf.Variable(tf.random.normal(\n",
        "                  (1, num_output),\n",
        "                  mean=0.0,\n",
        "                  stddev=1.0,\n",
        "                  dtype=tf.dtypes.float32,\n",
        "                  seed=None,\n",
        "                  name='b2'))\n",
        "    self.W2 = tf.Variable(tf.random.normal(\n",
        "                  (num_hidden, num_output),\n",
        "                   mean=0.0,\n",
        "                  stddev=1.0,\n",
        "                  dtype=tf.dtypes.float32,\n",
        "                  seed=None,\n",
        "                  name='W2'))\n",
        "  def __call__(self, x):\n",
        "    return self.forward(x)\n",
        "\n",
        "  def forward(self, x):\n",
        "    a1 = tf.sigmoid(\n",
        "          tf.linalg.matmul(x, self.W1) + self.b1\n",
        "          )\n",
        "    a2 = tf.nn.softmax(\n",
        "          tf.linalg.matmul(a1, self.W2) + self.b2\n",
        "          )\n",
        "    return a2\n",
        "\n",
        "model = Model()\n",
        "model(features[:5])"
      ],
      "execution_count": 30,
      "outputs": [
        {
          "output_type": "execute_result",
          "data": {
            "text/plain": [
              "<tf.Tensor: id=28368, shape=(5, 3), dtype=float32, numpy=\n",
              "array([[0.13765976, 0.05198822, 0.810352  ],\n",
              "       [0.13766102, 0.05198886, 0.8103501 ],\n",
              "       [0.13726467, 0.05176727, 0.81096804],\n",
              "       [0.13638625, 0.0512777 , 0.8123361 ],\n",
              "       [0.1354088 , 0.05073471, 0.81385654]], dtype=float32)>"
            ]
          },
          "metadata": {
            "tags": []
          },
          "execution_count": 30
        }
      ]
    },
    {
      "cell_type": "code",
      "metadata": {
        "id": "42XbcwCo8FAs",
        "colab_type": "code",
        "colab": {}
      },
      "source": [
        "def loss(y_hat, y):\n",
        "  return tf.reduce_mean(tf.square(y_hat - y))\n",
        "\n",
        "def train_step(model, inputs, outputs, learning_rate):\n",
        "  with tf.GradientTape() as t:\n",
        "    current_loss = loss(model(inputs), outputs)\n",
        "    dW1, dW2, db1, db2 = t.gradient(current_loss, [model.W1, model.W2, model.b1, model.b2])\n",
        "  \n",
        "  model.W1.assign_sub(learning_rate * dW1)\n",
        "  model.W2.assign_sub(learning_rate * dW2)\n",
        "  model.b1.assign_sub(learning_rate * db1)\n",
        "  model.b2.assign_sub(learning_rate * db2)\n",
        "\n",
        "train_step(model, features, tf.one_hot(labels, 3, dtype='float32'), 0.01)"
      ],
      "execution_count": 0,
      "outputs": []
    },
    {
      "cell_type": "code",
      "metadata": {
        "id": "Gi-kJavm88cE",
        "colab_type": "code",
        "outputId": "d5f0355c-8544-497c-f68a-623833b69c90",
        "colab": {
          "base_uri": "https://localhost:8080/",
          "height": 1000
        }
      },
      "source": [
        "model = Model()\n",
        "learning_rate = 0.1\n",
        "\n",
        "for epoch in range(100):\n",
        "  for inputs, outputs in iter(train_dataset):\n",
        "    outputs = tf.one_hot(outputs, 3, dtype='float32')\n",
        "    train_step(model, inputs, outputs, learning_rate)\n",
        "    \n",
        "  current_loss = tf.reduce_mean([loss(model(x), tf.one_hot(y, 3, dtype='float32')) for x, y in iter(train_dataset)])\n",
        "  current_loss = loss(model(inputs), outputs).numpy()\n",
        "  \n",
        "  print(f'The loss value for epoch {epoch} is {current_loss:0.2f}')"
      ],
      "execution_count": 37,
      "outputs": [
        {
          "output_type": "stream",
          "text": [
            "The loss value for epoch 0 is 0.25\n",
            "The loss value for epoch 1 is 0.25\n",
            "The loss value for epoch 2 is 0.25\n",
            "The loss value for epoch 3 is 0.25\n",
            "The loss value for epoch 4 is 0.24\n",
            "The loss value for epoch 5 is 0.24\n",
            "The loss value for epoch 6 is 0.24\n",
            "The loss value for epoch 7 is 0.24\n",
            "The loss value for epoch 8 is 0.24\n",
            "The loss value for epoch 9 is 0.24\n",
            "The loss value for epoch 10 is 0.24\n",
            "The loss value for epoch 11 is 0.24\n",
            "The loss value for epoch 12 is 0.24\n",
            "The loss value for epoch 13 is 0.23\n",
            "The loss value for epoch 14 is 0.23\n",
            "The loss value for epoch 15 is 0.23\n",
            "The loss value for epoch 16 is 0.23\n",
            "The loss value for epoch 17 is 0.23\n",
            "The loss value for epoch 18 is 0.23\n",
            "The loss value for epoch 19 is 0.23\n",
            "The loss value for epoch 20 is 0.23\n",
            "The loss value for epoch 21 is 0.23\n",
            "The loss value for epoch 22 is 0.23\n",
            "The loss value for epoch 23 is 0.23\n",
            "The loss value for epoch 24 is 0.22\n",
            "The loss value for epoch 25 is 0.22\n",
            "The loss value for epoch 26 is 0.22\n",
            "The loss value for epoch 27 is 0.22\n",
            "The loss value for epoch 28 is 0.22\n",
            "The loss value for epoch 29 is 0.22\n",
            "The loss value for epoch 30 is 0.22\n",
            "The loss value for epoch 31 is 0.22\n",
            "The loss value for epoch 32 is 0.22\n",
            "The loss value for epoch 33 is 0.22\n",
            "The loss value for epoch 34 is 0.22\n",
            "The loss value for epoch 35 is 0.22\n",
            "The loss value for epoch 36 is 0.21\n",
            "The loss value for epoch 37 is 0.21\n",
            "The loss value for epoch 38 is 0.21\n",
            "The loss value for epoch 39 is 0.21\n",
            "The loss value for epoch 40 is 0.21\n",
            "The loss value for epoch 41 is 0.21\n",
            "The loss value for epoch 42 is 0.21\n",
            "The loss value for epoch 43 is 0.21\n",
            "The loss value for epoch 44 is 0.21\n",
            "The loss value for epoch 45 is 0.21\n",
            "The loss value for epoch 46 is 0.21\n",
            "The loss value for epoch 47 is 0.21\n",
            "The loss value for epoch 48 is 0.20\n",
            "The loss value for epoch 49 is 0.20\n",
            "The loss value for epoch 50 is 0.20\n",
            "The loss value for epoch 51 is 0.20\n",
            "The loss value for epoch 52 is 0.20\n",
            "The loss value for epoch 53 is 0.20\n",
            "The loss value for epoch 54 is 0.20\n",
            "The loss value for epoch 55 is 0.20\n",
            "The loss value for epoch 56 is 0.20\n",
            "The loss value for epoch 57 is 0.20\n",
            "The loss value for epoch 58 is 0.20\n",
            "The loss value for epoch 59 is 0.20\n",
            "The loss value for epoch 60 is 0.20\n",
            "The loss value for epoch 61 is 0.19\n",
            "The loss value for epoch 62 is 0.19\n",
            "The loss value for epoch 63 is 0.19\n",
            "The loss value for epoch 64 is 0.19\n",
            "The loss value for epoch 65 is 0.19\n",
            "The loss value for epoch 66 is 0.19\n",
            "The loss value for epoch 67 is 0.19\n",
            "The loss value for epoch 68 is 0.19\n",
            "The loss value for epoch 69 is 0.19\n",
            "The loss value for epoch 70 is 0.19\n",
            "The loss value for epoch 71 is 0.19\n",
            "The loss value for epoch 72 is 0.19\n",
            "The loss value for epoch 73 is 0.19\n",
            "The loss value for epoch 74 is 0.19\n",
            "The loss value for epoch 75 is 0.19\n",
            "The loss value for epoch 76 is 0.19\n",
            "The loss value for epoch 77 is 0.18\n",
            "The loss value for epoch 78 is 0.18\n",
            "The loss value for epoch 79 is 0.18\n",
            "The loss value for epoch 80 is 0.18\n",
            "The loss value for epoch 81 is 0.18\n",
            "The loss value for epoch 82 is 0.18\n",
            "The loss value for epoch 83 is 0.18\n",
            "The loss value for epoch 84 is 0.18\n",
            "The loss value for epoch 85 is 0.18\n",
            "The loss value for epoch 86 is 0.18\n",
            "The loss value for epoch 87 is 0.18\n",
            "The loss value for epoch 88 is 0.18\n",
            "The loss value for epoch 89 is 0.18\n",
            "The loss value for epoch 90 is 0.18\n",
            "The loss value for epoch 91 is 0.18\n",
            "The loss value for epoch 92 is 0.18\n",
            "The loss value for epoch 93 is 0.18\n",
            "The loss value for epoch 94 is 0.18\n",
            "The loss value for epoch 95 is 0.18\n",
            "The loss value for epoch 96 is 0.17\n",
            "The loss value for epoch 97 is 0.17\n",
            "The loss value for epoch 98 is 0.17\n",
            "The loss value for epoch 99 is 0.17\n"
          ],
          "name": "stdout"
        }
      ]
    },
    {
      "cell_type": "code",
      "metadata": {
        "id": "T2_pp61ZKqKN",
        "colab_type": "code",
        "colab": {
          "base_uri": "https://localhost:8080/",
          "height": 164
        },
        "outputId": "f57fcd22-8e06-4510-e3ed-92659cac7cb4"
      },
      "source": [
        ""
      ],
      "execution_count": 17,
      "outputs": [
        {
          "output_type": "error",
          "ename": "TypeError",
          "evalue": "ignored",
          "traceback": [
            "\u001b[0;31m---------------------------------------------------------------------------\u001b[0m",
            "\u001b[0;31mTypeError\u001b[0m                                 Traceback (most recent call last)",
            "\u001b[0;32m<ipython-input-17-214974d0e0c0>\u001b[0m in \u001b[0;36m<module>\u001b[0;34m()\u001b[0m\n\u001b[0;32m----> 1\u001b[0;31m \u001b[0mlen\u001b[0m\u001b[0;34m(\u001b[0m\u001b[0mtrain_dataset\u001b[0m\u001b[0;34m)\u001b[0m\u001b[0;34m\u001b[0m\u001b[0;34m\u001b[0m\u001b[0m\n\u001b[0m",
            "\u001b[0;31mTypeError\u001b[0m: object of type 'DatasetV1Adapter' has no len()"
          ]
        }
      ]
    },
    {
      "cell_type": "code",
      "metadata": {
        "id": "dAzwqk9oKsD4",
        "colab_type": "code",
        "colab": {}
      },
      "source": [
        ""
      ],
      "execution_count": 0,
      "outputs": []
    }
  ]
}